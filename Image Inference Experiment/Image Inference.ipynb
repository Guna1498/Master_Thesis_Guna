{
 "cells": [
  {
   "cell_type": "markdown",
   "id": "6596ea08-4de9-4d3f-aea9-323689ba0ec3",
   "metadata": {},
   "source": [
    "# Model Name: Qwen/Qwen2.5-VL-7B-Instruct\n",
    "# Dataset: New Sloped Roofs"
   ]
  },
  {
   "cell_type": "code",
   "execution_count": 4,
   "id": "7caa883f-3ba3-4288-a6fe-fc64786fe39a",
   "metadata": {
    "collapsed": true,
    "jupyter": {
     "outputs_hidden": true
    }
   },
   "outputs": [
    {
     "name": "stdout",
     "output_type": "stream",
     "text": [
      "Sat Mar 22 23:23:27 2025       \n",
      "+-----------------------------------------------------------------------------------------+\n",
      "| NVIDIA-SMI 550.54.14              Driver Version: 550.54.14      CUDA Version: 12.4     |\n",
      "|-----------------------------------------+------------------------+----------------------+\n",
      "| GPU  Name                 Persistence-M | Bus-Id          Disp.A | Volatile Uncorr. ECC |\n",
      "| Fan  Temp   Perf          Pwr:Usage/Cap |           Memory-Usage | GPU-Util  Compute M. |\n",
      "|                                         |                        |               MIG M. |\n",
      "|=========================================+========================+======================|\n",
      "|   0  NVIDIA A100-SXM4-80GB          On  |   00000000:01:00.0 Off |                    0 |\n",
      "| N/A   29C    P0             64W /  500W |       0MiB /  81920MiB |      0%      Default |\n",
      "|                                         |                        |             Disabled |\n",
      "+-----------------------------------------+------------------------+----------------------+\n",
      "|   1  NVIDIA A100-SXM4-80GB          On  |   00000000:41:00.0 Off |                    0 |\n",
      "| N/A   58C    P0            371W /  500W |    6576MiB /  81920MiB |     99%      Default |\n",
      "|                                         |                        |             Disabled |\n",
      "+-----------------------------------------+------------------------+----------------------+\n",
      "|   2  NVIDIA A100-SXM4-80GB          On  |   00000000:81:00.0 Off |                    0 |\n",
      "| N/A   29C    P0             64W /  500W |       0MiB /  81920MiB |      0%      Default |\n",
      "|                                         |                        |             Disabled |\n",
      "+-----------------------------------------+------------------------+----------------------+\n",
      "|   3  NVIDIA A100-SXM4-80GB          On  |   00000000:C1:00.0 Off |                    0 |\n",
      "| N/A   28C    P0             67W /  500W |       0MiB /  81920MiB |      0%      Default |\n",
      "|                                         |                        |             Disabled |\n",
      "+-----------------------------------------+------------------------+----------------------+\n",
      "                                                                                         \n",
      "+-----------------------------------------------------------------------------------------+\n",
      "| Processes:                                                                              |\n",
      "|  GPU   GI   CI        PID   Type   Process name                              GPU Memory |\n",
      "|        ID   ID                                                               Usage      |\n",
      "|=========================================================================================|\n",
      "|    1   N/A  N/A   1923877      C   ...iranda/.conda/envs/p310/bin/python3       6564MiB |\n",
      "+-----------------------------------------------------------------------------------------+\n"
     ]
    }
   ],
   "source": [
    "!nvidia-smi"
   ]
  },
  {
   "cell_type": "markdown",
   "id": "51177ad9-d233-4b2b-bff2-c2e8908ad8c1",
   "metadata": {
    "jupyter": {
     "source_hidden": true
    }
   },
   "source": [
    "### Tutorial and details\n",
    "https://nodeshift.com/blog/how-to-install-qwen2-5-vl-7b-instruct-locally\n",
    "#### GPU Requirements\n",
    "1. Minimum: 24GB VRAM (with quantization)\r",
    "2. \n",
    "Recommended: 48GB+ VRAM for full performance (e.g., NVIDIA A6000 or A100\n",
    "3. \r\n",
    "Optimal: 80GB VRAM for long-context, video-heavy tasks (e.g., NVIDIA H10\n",
    "\n",
    "#### CPU Requirements\n",
    "1. Text-based tasks: 16-core CPU is sufficient.\r",
    "2. \n",
    "Multimodal (image/video) tasks: 32+ cores recommended for fast preprocessing\n",
    "\n",
    "#### RAM Requirements\n",
    "1. Minimum: 32GB RAM for smooth operation with images.\r",
    "2. \n",
    "Recommended: 64GB RAM for vision-heavy tasks.3. \r\n",
    "Optimal: 128GB+ RAM for handling long video\n",
    "\n",
    "#### Disk Space & Storage\n",
    "1. Minimum: 50GB free space for model weights and temporary files.\r",
    "2. \n",
    "Recommended: 1TB NVMe SSD for faster model loading and caching.3. \r\n",
    "High-speed SSD storage is crucial for video-heavy taskss..0)"
   ]
  },
  {
   "cell_type": "markdown",
   "id": "36d002b5-bec2-4505-96e8-4aa778f9f37f",
   "metadata": {},
   "source": [
    "### Install PyTorch with GPU Support"
   ]
  },
  {
   "cell_type": "code",
   "execution_count": 6,
   "id": "411adb2f-adff-4c00-87f0-ea0d432d9eb4",
   "metadata": {
    "collapsed": true,
    "jupyter": {
     "outputs_hidden": true
    }
   },
   "outputs": [
    {
     "name": "stdout",
     "output_type": "stream",
     "text": [
      "Defaulting to user installation because normal site-packages is not writeable\n",
      "Looking in indexes: https://download.pytorch.org/whl/cu121\n",
      "Requirement already satisfied: torch in /mnt/home/gjenni/.local/lib/python3.12/site-packages (2.5.1)\n",
      "Requirement already satisfied: torchvision in /mnt/home/gjenni/.local/lib/python3.12/site-packages (0.20.1)\n",
      "Requirement already satisfied: torchaudio in /mnt/home/gjenni/.local/lib/python3.12/site-packages (2.5.1)\n",
      "Requirement already satisfied: filelock in /mnt/home/gjenni/.local/lib/python3.12/site-packages (from torch) (3.16.1)\n",
      "Requirement already satisfied: typing-extensions>=4.8.0 in /mnt/home/gjenni/.local/lib/python3.12/site-packages (from torch) (4.12.2)\n",
      "Requirement already satisfied: networkx in /mnt/home/gjenni/.local/lib/python3.12/site-packages (from torch) (3.4.2)\n",
      "Requirement already satisfied: jinja2 in /mnt/home/gjenni/.local/lib/python3.12/site-packages (from torch) (3.1.4)\n",
      "Requirement already satisfied: fsspec in /mnt/home/gjenni/.local/lib/python3.12/site-packages (from torch) (2024.10.0)\n",
      "Requirement already satisfied: nvidia-cuda-nvrtc-cu12==12.4.127 in /mnt/home/gjenni/.local/lib/python3.12/site-packages (from torch) (12.4.127)\n",
      "Requirement already satisfied: nvidia-cuda-runtime-cu12==12.4.127 in /mnt/home/gjenni/.local/lib/python3.12/site-packages (from torch) (12.4.127)\n",
      "Requirement already satisfied: nvidia-cuda-cupti-cu12==12.4.127 in /mnt/home/gjenni/.local/lib/python3.12/site-packages (from torch) (12.4.127)\n",
      "Requirement already satisfied: nvidia-cudnn-cu12==9.1.0.70 in /mnt/home/gjenni/.local/lib/python3.12/site-packages (from torch) (9.1.0.70)\n",
      "Requirement already satisfied: nvidia-cublas-cu12==12.4.5.8 in /mnt/home/gjenni/.local/lib/python3.12/site-packages (from torch) (12.4.5.8)\n",
      "Requirement already satisfied: nvidia-cufft-cu12==11.2.1.3 in /mnt/home/gjenni/.local/lib/python3.12/site-packages (from torch) (11.2.1.3)\n",
      "Requirement already satisfied: nvidia-curand-cu12==10.3.5.147 in /mnt/home/gjenni/.local/lib/python3.12/site-packages (from torch) (10.3.5.147)\n",
      "Requirement already satisfied: nvidia-cusolver-cu12==11.6.1.9 in /mnt/home/gjenni/.local/lib/python3.12/site-packages (from torch) (11.6.1.9)\n",
      "Requirement already satisfied: nvidia-cusparse-cu12==12.3.1.170 in /mnt/home/gjenni/.local/lib/python3.12/site-packages (from torch) (12.3.1.170)\n",
      "Requirement already satisfied: nvidia-nccl-cu12==2.21.5 in /mnt/home/gjenni/.local/lib/python3.12/site-packages (from torch) (2.21.5)\n",
      "Requirement already satisfied: nvidia-nvtx-cu12==12.4.127 in /mnt/home/gjenni/.local/lib/python3.12/site-packages (from torch) (12.4.127)\n",
      "Requirement already satisfied: nvidia-nvjitlink-cu12==12.4.127 in /mnt/home/gjenni/.local/lib/python3.12/site-packages (from torch) (12.4.127)\n",
      "Requirement already satisfied: triton==3.1.0 in /mnt/home/gjenni/.local/lib/python3.12/site-packages (from torch) (3.1.0)\n",
      "Requirement already satisfied: setuptools in /mnt/home/gjenni/.local/lib/python3.12/site-packages (from torch) (75.6.0)\n",
      "Requirement already satisfied: sympy==1.13.1 in /mnt/home/gjenni/.local/lib/python3.12/site-packages (from torch) (1.13.1)\n",
      "Requirement already satisfied: mpmath<1.4,>=1.1.0 in /mnt/home/gjenni/.local/lib/python3.12/site-packages (from sympy==1.13.1->torch) (1.3.0)\n",
      "Requirement already satisfied: numpy in /mnt/home/gjenni/.local/lib/python3.12/site-packages (from torchvision) (1.26.4)\n",
      "Requirement already satisfied: pillow!=8.3.*,>=5.3.0 in /mnt/home/gjenni/.local/lib/python3.12/site-packages (from torchvision) (10.4.0)\n",
      "Requirement already satisfied: MarkupSafe>=2.0 in /mnt/home/gjenni/.local/lib/python3.12/site-packages (from jinja2->torch) (3.0.2)\n"
     ]
    }
   ],
   "source": [
    "!pip install torch torchvision torchaudio --index-url https://download.pytorch.org/whl/cu121"
   ]
  },
  {
   "cell_type": "markdown",
   "id": "71bfc66c-6b6a-4ed8-af83-c2ea5be46f0c",
   "metadata": {},
   "source": [
    "### Verify PyTorch Installation"
   ]
  },
  {
   "cell_type": "code",
   "execution_count": 7,
   "id": "bbb35df5-de67-40c8-aa99-ec7db5990a33",
   "metadata": {},
   "outputs": [
    {
     "name": "stdout",
     "output_type": "stream",
     "text": [
      "PyTorch Version: 2.5.1+cu124\n",
      "CUDA Available: True\n",
      "GPU Name: NVIDIA A100-SXM4-80GB\n"
     ]
    }
   ],
   "source": [
    "import torch\n",
    "print(\"PyTorch Version:\", torch.__version__)\n",
    "print(\"CUDA Available:\", torch.cuda.is_available())\n",
    "\n",
    "if torch.cuda.is_available():\n",
    "    print(\"GPU Name:\", torch.cuda.get_device_name(0))\n",
    "else:\n",
    "    print(\"No GPU detected.\")"
   ]
  },
  {
   "cell_type": "markdown",
   "id": "7e109432-0e34-408e-bcba-999d9db1896f",
   "metadata": {},
   "source": [
    "### Install Dependencies"
   ]
  },
  {
   "cell_type": "code",
   "execution_count": 8,
   "id": "49bd6687-3566-448b-8438-e168214d962d",
   "metadata": {
    "collapsed": true,
    "jupyter": {
     "outputs_hidden": true
    }
   },
   "outputs": [
    {
     "name": "stdout",
     "output_type": "stream",
     "text": [
      "Defaulting to user installation because normal site-packages is not writeable\n",
      "Collecting git+https://github.com/huggingface/transformers\n",
      "  Cloning https://github.com/huggingface/transformers to /tmp/gjenni-tmpdir-Hbjvnq/pip-req-build-wzlw_1iv\n",
      "  Running command git clone --filter=blob:none --quiet https://github.com/huggingface/transformers /tmp/gjenni-tmpdir-Hbjvnq/pip-req-build-wzlw_1iv\n",
      "  Resolved https://github.com/huggingface/transformers to commit c9d1e5238a752813ba91a8751a638a09b5efbb73\n",
      "  Installing build dependencies ... \u001b[?25ldone\n",
      "\u001b[?25h  Getting requirements to build wheel ... \u001b[?25ldone\n",
      "\u001b[?25h  Preparing metadata (pyproject.toml) ... \u001b[?25ldone\n",
      "\u001b[?25hRequirement already satisfied: accelerate in /mnt/home/gjenni/.local/lib/python3.12/site-packages (1.4.0.dev0)\n",
      "Requirement already satisfied: filelock in /mnt/home/gjenni/.local/lib/python3.12/site-packages (from transformers==4.51.0.dev0) (3.16.1)\n",
      "Requirement already satisfied: huggingface-hub<1.0,>=0.26.0 in /mnt/home/gjenni/.local/lib/python3.12/site-packages (from transformers==4.51.0.dev0) (0.26.5)\n",
      "Requirement already satisfied: numpy>=1.17 in /mnt/home/gjenni/.local/lib/python3.12/site-packages (from transformers==4.51.0.dev0) (1.26.4)\n",
      "Requirement already satisfied: packaging>=20.0 in /mnt/apps/modules/conda/python3.12.0/lib/python3.12/site-packages (from transformers==4.51.0.dev0) (24.1)\n",
      "Requirement already satisfied: pyyaml>=5.1 in /mnt/apps/modules/conda/python3.12.0/lib/python3.12/site-packages (from transformers==4.51.0.dev0) (6.0.1)\n",
      "Requirement already satisfied: regex!=2019.12.17 in /mnt/home/gjenni/.local/lib/python3.12/site-packages (from transformers==4.51.0.dev0) (2024.11.6)\n",
      "Requirement already satisfied: requests in /mnt/apps/modules/conda/python3.12.0/lib/python3.12/site-packages (from transformers==4.51.0.dev0) (2.32.3)\n",
      "Requirement already satisfied: tokenizers<0.22,>=0.21 in /mnt/home/gjenni/.local/lib/python3.12/site-packages (from transformers==4.51.0.dev0) (0.21.0)\n",
      "Requirement already satisfied: safetensors>=0.4.3 in /mnt/home/gjenni/.local/lib/python3.12/site-packages (from transformers==4.51.0.dev0) (0.4.5)\n",
      "Requirement already satisfied: tqdm>=4.27 in /mnt/home/gjenni/.local/lib/python3.12/site-packages (from transformers==4.51.0.dev0) (4.67.1)\n",
      "Requirement already satisfied: psutil in /mnt/apps/modules/conda/python3.12.0/lib/python3.12/site-packages (from accelerate) (5.9.0)\n",
      "Requirement already satisfied: torch>=2.0.0 in /mnt/home/gjenni/.local/lib/python3.12/site-packages (from accelerate) (2.5.1)\n",
      "Requirement already satisfied: fsspec>=2023.5.0 in /mnt/home/gjenni/.local/lib/python3.12/site-packages (from huggingface-hub<1.0,>=0.26.0->transformers==4.51.0.dev0) (2024.10.0)\n",
      "Requirement already satisfied: typing-extensions>=3.7.4.3 in /mnt/home/gjenni/.local/lib/python3.12/site-packages (from huggingface-hub<1.0,>=0.26.0->transformers==4.51.0.dev0) (4.12.2)\n",
      "Requirement already satisfied: networkx in /mnt/home/gjenni/.local/lib/python3.12/site-packages (from torch>=2.0.0->accelerate) (3.4.2)\n",
      "Requirement already satisfied: jinja2 in /mnt/home/gjenni/.local/lib/python3.12/site-packages (from torch>=2.0.0->accelerate) (3.1.4)\n",
      "Requirement already satisfied: nvidia-cuda-nvrtc-cu12==12.4.127 in /mnt/home/gjenni/.local/lib/python3.12/site-packages (from torch>=2.0.0->accelerate) (12.4.127)\n",
      "Requirement already satisfied: nvidia-cuda-runtime-cu12==12.4.127 in /mnt/home/gjenni/.local/lib/python3.12/site-packages (from torch>=2.0.0->accelerate) (12.4.127)\n",
      "Requirement already satisfied: nvidia-cuda-cupti-cu12==12.4.127 in /mnt/home/gjenni/.local/lib/python3.12/site-packages (from torch>=2.0.0->accelerate) (12.4.127)\n",
      "Requirement already satisfied: nvidia-cudnn-cu12==9.1.0.70 in /mnt/home/gjenni/.local/lib/python3.12/site-packages (from torch>=2.0.0->accelerate) (9.1.0.70)\n",
      "Requirement already satisfied: nvidia-cublas-cu12==12.4.5.8 in /mnt/home/gjenni/.local/lib/python3.12/site-packages (from torch>=2.0.0->accelerate) (12.4.5.8)\n",
      "Requirement already satisfied: nvidia-cufft-cu12==11.2.1.3 in /mnt/home/gjenni/.local/lib/python3.12/site-packages (from torch>=2.0.0->accelerate) (11.2.1.3)\n",
      "Requirement already satisfied: nvidia-curand-cu12==10.3.5.147 in /mnt/home/gjenni/.local/lib/python3.12/site-packages (from torch>=2.0.0->accelerate) (10.3.5.147)\n",
      "Requirement already satisfied: nvidia-cusolver-cu12==11.6.1.9 in /mnt/home/gjenni/.local/lib/python3.12/site-packages (from torch>=2.0.0->accelerate) (11.6.1.9)\n",
      "Requirement already satisfied: nvidia-cusparse-cu12==12.3.1.170 in /mnt/home/gjenni/.local/lib/python3.12/site-packages (from torch>=2.0.0->accelerate) (12.3.1.170)\n",
      "Requirement already satisfied: nvidia-nccl-cu12==2.21.5 in /mnt/home/gjenni/.local/lib/python3.12/site-packages (from torch>=2.0.0->accelerate) (2.21.5)\n",
      "Requirement already satisfied: nvidia-nvtx-cu12==12.4.127 in /mnt/home/gjenni/.local/lib/python3.12/site-packages (from torch>=2.0.0->accelerate) (12.4.127)\n",
      "Requirement already satisfied: nvidia-nvjitlink-cu12==12.4.127 in /mnt/home/gjenni/.local/lib/python3.12/site-packages (from torch>=2.0.0->accelerate) (12.4.127)\n",
      "Requirement already satisfied: triton==3.1.0 in /mnt/home/gjenni/.local/lib/python3.12/site-packages (from torch>=2.0.0->accelerate) (3.1.0)\n",
      "Requirement already satisfied: setuptools in /mnt/home/gjenni/.local/lib/python3.12/site-packages (from torch>=2.0.0->accelerate) (75.6.0)\n",
      "Requirement already satisfied: sympy==1.13.1 in /mnt/home/gjenni/.local/lib/python3.12/site-packages (from torch>=2.0.0->accelerate) (1.13.1)\n",
      "Requirement already satisfied: mpmath<1.4,>=1.1.0 in /mnt/home/gjenni/.local/lib/python3.12/site-packages (from sympy==1.13.1->torch>=2.0.0->accelerate) (1.3.0)\n",
      "Requirement already satisfied: charset-normalizer<4,>=2 in /mnt/apps/modules/conda/python3.12.0/lib/python3.12/site-packages (from requests->transformers==4.51.0.dev0) (3.3.2)\n",
      "Requirement already satisfied: idna<4,>=2.5 in /mnt/apps/modules/conda/python3.12.0/lib/python3.12/site-packages (from requests->transformers==4.51.0.dev0) (3.7)\n",
      "Requirement already satisfied: urllib3<3,>=1.21.1 in /mnt/apps/modules/conda/python3.12.0/lib/python3.12/site-packages (from requests->transformers==4.51.0.dev0) (2.2.2)\n",
      "Requirement already satisfied: certifi>=2017.4.17 in /mnt/apps/modules/conda/python3.12.0/lib/python3.12/site-packages (from requests->transformers==4.51.0.dev0) (2024.7.4)\n",
      "Requirement already satisfied: MarkupSafe>=2.0 in /mnt/home/gjenni/.local/lib/python3.12/site-packages (from jinja2->torch>=2.0.0->accelerate) (3.0.2)\n",
      "Building wheels for collected packages: transformers\n",
      "  Building wheel for transformers (pyproject.toml) ... \u001b[?25ldone\n",
      "\u001b[?25h  Created wheel for transformers: filename=transformers-4.51.0.dev0-py3-none-any.whl size=11004959 sha256=ca6f3380eaa76cc868452b673464631c09ea4fc3781c5cfb8ede7ccc960eaa07\n",
      "  Stored in directory: /tmp/gjenni-tmpdir-Hbjvnq/pip-ephem-wheel-cache-7vhtt8ih/wheels/49/a7/50/c9fdabbf10e51bb1256adb0c1a587fedd7184f5bad28d47fe3\n",
      "Successfully built transformers\n",
      "Installing collected packages: transformers\n",
      "  Attempting uninstall: transformers\n",
      "    Found existing installation: transformers 4.50.0.dev0\n",
      "    Uninstalling transformers-4.50.0.dev0:\n",
      "      Successfully uninstalled transformers-4.50.0.dev0\n",
      "Successfully installed transformers-4.51.0.dev0\n",
      "Defaulting to user installation because normal site-packages is not writeable\n",
      "Collecting qwen-vl-utils==0.0.8 (from qwen-vl-utils[decord]==0.0.8)\n",
      "  Downloading qwen_vl_utils-0.0.8-py3-none-any.whl.metadata (3.6 kB)\n",
      "Requirement already satisfied: av in /mnt/home/gjenni/.local/lib/python3.12/site-packages (from qwen-vl-utils==0.0.8->qwen-vl-utils[decord]==0.0.8) (14.1.0)\n",
      "Requirement already satisfied: packaging in /mnt/apps/modules/conda/python3.12.0/lib/python3.12/site-packages (from qwen-vl-utils==0.0.8->qwen-vl-utils[decord]==0.0.8) (24.1)\n",
      "Requirement already satisfied: pillow in /mnt/home/gjenni/.local/lib/python3.12/site-packages (from qwen-vl-utils==0.0.8->qwen-vl-utils[decord]==0.0.8) (10.4.0)\n",
      "Requirement already satisfied: requests in /mnt/apps/modules/conda/python3.12.0/lib/python3.12/site-packages (from qwen-vl-utils==0.0.8->qwen-vl-utils[decord]==0.0.8) (2.32.3)\n",
      "Requirement already satisfied: decord in /mnt/home/gjenni/.local/lib/python3.12/site-packages (from qwen-vl-utils[decord]==0.0.8) (0.6.0)\n",
      "Requirement already satisfied: numpy>=1.14.0 in /mnt/home/gjenni/.local/lib/python3.12/site-packages (from decord->qwen-vl-utils[decord]==0.0.8) (1.26.4)\n",
      "Requirement already satisfied: charset-normalizer<4,>=2 in /mnt/apps/modules/conda/python3.12.0/lib/python3.12/site-packages (from requests->qwen-vl-utils==0.0.8->qwen-vl-utils[decord]==0.0.8) (3.3.2)\n",
      "Requirement already satisfied: idna<4,>=2.5 in /mnt/apps/modules/conda/python3.12.0/lib/python3.12/site-packages (from requests->qwen-vl-utils==0.0.8->qwen-vl-utils[decord]==0.0.8) (3.7)\n",
      "Requirement already satisfied: urllib3<3,>=1.21.1 in /mnt/apps/modules/conda/python3.12.0/lib/python3.12/site-packages (from requests->qwen-vl-utils==0.0.8->qwen-vl-utils[decord]==0.0.8) (2.2.2)\n",
      "Requirement already satisfied: certifi>=2017.4.17 in /mnt/apps/modules/conda/python3.12.0/lib/python3.12/site-packages (from requests->qwen-vl-utils==0.0.8->qwen-vl-utils[decord]==0.0.8) (2024.7.4)\n",
      "Downloading qwen_vl_utils-0.0.8-py3-none-any.whl (5.9 kB)\n",
      "Installing collected packages: qwen-vl-utils\n",
      "  Attempting uninstall: qwen-vl-utils\n",
      "    Found existing installation: qwen-vl-utils 0.0.10\n",
      "    Uninstalling qwen-vl-utils-0.0.10:\n",
      "      Successfully uninstalled qwen-vl-utils-0.0.10\n",
      "Successfully installed qwen-vl-utils-0.0.8\n"
     ]
    }
   ],
   "source": [
    "!pip install git+https://github.com/huggingface/transformers accelerate\n",
    "!pip install qwen-vl-utils[decord]==0.0.8"
   ]
  },
  {
   "cell_type": "markdown",
   "id": "da3de24b-1eae-4c45-b08a-76cfa553cf0d",
   "metadata": {},
   "source": [
    "### Load the Model and Processor"
   ]
  },
  {
   "cell_type": "code",
   "execution_count": 5,
   "id": "cb9634ae-2207-4b4a-a379-a4fdd063bdd7",
   "metadata": {},
   "outputs": [],
   "source": [
    "import pandas as pd\n",
    "import os"
   ]
  },
  {
   "cell_type": "code",
   "execution_count": 1,
   "id": "bffd80d6-91c8-4247-97eb-b615565c413b",
   "metadata": {},
   "outputs": [
    {
     "data": {
      "application/vnd.jupyter.widget-view+json": {
       "model_id": "3d612ddb30224f28bdaa39c6e794a6a6",
       "version_major": 2,
       "version_minor": 0
      },
      "text/plain": [
       "Loading checkpoint shards:   0%|          | 0/5 [00:00<?, ?it/s]"
      ]
     },
     "metadata": {},
     "output_type": "display_data"
    },
    {
     "name": "stderr",
     "output_type": "stream",
     "text": [
      "Using a slow image processor as `use_fast` is unset and a slow processor was saved with this model. `use_fast=True` will be the default behavior in v4.48, even if the model was saved with a slow processor. This will result in minor differences in outputs. You'll still be able to use a slow processor with `use_fast=False`.\n"
     ]
    },
    {
     "name": "stdout",
     "output_type": "stream",
     "text": [
      "Model and Processor Loaded Successfully!\n"
     ]
    }
   ],
   "source": [
    "from transformers import Qwen2_5_VLForConditionalGeneration, AutoTokenizer, AutoProcessor\n",
    "from qwen_vl_utils import process_vision_info\n",
    "import torch\n",
    "\n",
    "# Load the model on the GPU\n",
    "model = Qwen2_5_VLForConditionalGeneration.from_pretrained(\n",
    "    \"Qwen/Qwen2.5-VL-7B-Instruct\", torch_dtype=torch.float16, device_map=\"auto\"\n",
    ")\n",
    "\n",
    "# Load the processor\n",
    "processor = AutoProcessor.from_pretrained(\"Qwen/Qwen2.5-VL-7B-Instruct\")\n",
    "\n",
    "print(\"Model and Processor Loaded Successfully!\")"
   ]
  },
  {
   "attachments": {},
   "cell_type": "markdown",
   "id": "34ca6e86-d388-414b-b56a-73be89739295",
   "metadata": {},
   "source": [
    "## Evaluation cases\n",
    "Both cases will be evaluated based on roof features and types for the various prompts.\n",
    "\n",
    "1. Case 1 (System Role: Helpful Assistant)\n",
    "2. Case 2 (System Role: Expert)\n",
    "   \n",
    "Based on the original ground truth values\n",
    "\n",
    "P1: Skylight\n",
    "\n",
    "P2: Vents/ Chimneys\n",
    "\n",
    "P3: Hipped Roof\n",
    "\n",
    "P4: Mixed (Hipped L)\n",
    "\n",
    "P5: Gable Roof\n",
    "\n",
    "P6: Mixed (Gable + Hipped)\n"
   ]
  },
  {
   "cell_type": "markdown",
   "id": "320e055a-2d41-4597-a4ea-0fb4caf9777b",
   "metadata": {},
   "source": [
    "## Case 1"
   ]
  },
  {
   "cell_type": "markdown",
   "id": "5faa15e7-0ab5-4300-b7f0-de6eb8e95ea9",
   "metadata": {},
   "source": [
    "### Image Inference for Testing"
   ]
  },
  {
   "cell_type": "code",
   "execution_count": 3,
   "id": "3689edba-1b48-4171-b47a-77510a4bcc42",
   "metadata": {},
   "outputs": [
    {
     "name": "stdout",
     "output_type": "stream",
     "text": [
      "Generated Output: ['system\\nYou are a helpful assistant.\\nuser\\nIs the roof of the building of hipped type?\\nassistant\\nNo, the roof of the building in the image is not of a hipped type. A hipped roof has four sloped sides that meet at the top, forming a hip. The roof in the image appears to be a gabled roof, which has two sloped sides that meet at the top and form a peak.']\n"
     ]
    }
   ],
   "source": [
    "# Load your image\n",
    "image_path = \"/mnt/data/oe215/env/guna/Sloped_249/3587751.png\"\n",
    "\n",
    "\n",
    "# Prepare input\n",
    "messages = [\n",
    "    {\n",
    "        \"role\": \"user\",\n",
    "        \"content\": [\n",
    "            {\"type\": \"image\", \"image\": image_path},\n",
    "            {\"type\": \"text\", \"text\": \"Is the roof of the building of hipped type?\"},\n",
    "        ],\n",
    "    }\n",
    "]\n",
    "# Convert input into the required format\n",
    "text = processor.apply_chat_template(messages, tokenize=False, add_generation_prompt=True)\n",
    "image_inputs, video_inputs = process_vision_info(messages)\n",
    "\n",
    "# Tokenize and move to GPU\n",
    "inputs = processor(\n",
    "    text=[text],\n",
    "    images=image_inputs,\n",
    "    videos=video_inputs,\n",
    "    padding=True,\n",
    "    return_tensors=\"pt\",\n",
    ").to(\"cuda\")\n",
    "\n",
    "# Generate output\n",
    "generated_ids = model.generate(**inputs, max_new_tokens=128)\n",
    "\n",
    "# Decode and print result\n",
    "output_text = processor.batch_decode(generated_ids, skip_special_tokens=True, clean_up_tokenization_spaces=False)\n",
    "print(\"Generated Output:\", output_text)"
   ]
  },
  {
   "cell_type": "markdown",
   "id": "bdafa1cb-011d-46a7-a1e1-b45ab23cf729",
   "metadata": {},
   "source": [
    "### Load GTs and Images and Inference Function Definition"
   ]
  },
  {
   "cell_type": "code",
   "execution_count": 6,
   "id": "01e1ffb3-d7b1-401e-b275-18400816f3fe",
   "metadata": {},
   "outputs": [],
   "source": [
    "# Load Excel and image folder\n",
    "excel_path = \"/mnt/data/oe215/env/guna/sloped_roof_249.xlsx\"\n",
    "image_folder = \"/mnt/data/oe215/env/guna/Sloped_249\"\n",
    "df = pd.read_excel(excel_path)\n",
    "df['FS_DE_ID'] = df['FS_DE_ID'].astype(str)\n",
    "\n",
    "def run_qwen_inference(image_path, prompt):\n",
    "    messages = [\n",
    "        {\n",
    "            \"role\": \"user\",\n",
    "            \"content\": [\n",
    "                {\"type\": \"image\", \"image\": image_path},\n",
    "                {\"type\": \"text\", \"text\": prompt},\n",
    "            ],\n",
    "        }\n",
    "    ]\n",
    "    \n",
    "    # Apply chat template\n",
    "    text = processor.apply_chat_template(messages, tokenize=False, add_generation_prompt=True)\n",
    "    \n",
    "    # Vision input\n",
    "    image_inputs, video_inputs = process_vision_info(messages)\n",
    "\n",
    "    # Tokenize\n",
    "    inputs = processor(\n",
    "        text=[text],\n",
    "        images=image_inputs,\n",
    "        videos=video_inputs,\n",
    "        padding=True,\n",
    "        return_tensors=\"pt\",\n",
    "    ).to(\"cuda\")\n",
    "\n",
    "    # Generate only the new tokens\n",
    "    with torch.no_grad():\n",
    "        generated_ids = model.generate(\n",
    "            **inputs,\n",
    "            max_new_tokens=128,\n",
    "            do_sample=False,\n",
    "            eos_token_id=processor.tokenizer.eos_token_id,\n",
    "            pad_token_id=processor.tokenizer.pad_token_id\n",
    "        )\n",
    "\n",
    "    # Decode only the newly generated part\n",
    "    generated_text = processor.batch_decode(\n",
    "        generated_ids[:, inputs['input_ids'].shape[1]:],  # ⬅️ Skip the prompt tokens\n",
    "        skip_special_tokens=True,\n",
    "        clean_up_tokenization_spaces=True\n",
    "    )[0]\n",
    "    \n",
    "    return generated_text\n"
   ]
  },
  {
   "cell_type": "markdown",
   "id": "a8ac34ad-1ae6-4b13-b805-a5d0dfce1582",
   "metadata": {},
   "source": [
    "### Run Inference for Skylights"
   ]
  },
  {
   "cell_type": "code",
   "execution_count": 5,
   "id": "e0ca97c8-d41b-4ad5-9aa7-7ee27bc6425c",
   "metadata": {},
   "outputs": [
    {
     "name": "stderr",
     "output_type": "stream",
     "text": [
      "  0%|          | 0/249 [00:00<?, ?it/s]/mnt/home/gjenni/.local/lib/python3.12/site-packages/transformers/generation/configuration_utils.py:628: UserWarning: `do_sample` is set to `False`. However, `temperature` is set to `1e-06` -- this flag is only used in sample-based generation modes. You should set `do_sample=True` or unset `temperature`.\n",
      "  warnings.warn(\n",
      "100%|██████████| 249/249 [00:41<00:00,  6.04it/s]\n"
     ]
    }
   ],
   "source": [
    "from tqdm import tqdm\n",
    "\n",
    "prompt = \"Does the roof of the building have any skylights? Answer with only 'Yes' or 'No' by properly analyzing the image?\"\n",
    "skylight_results = []\n",
    "\n",
    "for idx, row in tqdm(df.iterrows(), total=len(df)):\n",
    "    fs_id = row[\"FS_DE_ID\"]\n",
    "    image_path = os.path.join(image_folder, f\"{fs_id}.png\")\n",
    "\n",
    "    if os.path.exists(image_path):\n",
    "        try:\n",
    "            response = run_qwen_inference(image_path, prompt)\n",
    "        except Exception as e:\n",
    "            response = f\"Error: {e}\"\n",
    "    else:\n",
    "        response = \"Image not found\"\n",
    "\n",
    "    skylight_results.append({\n",
    "        \"FS_DE_ID\": fs_id,\n",
    "        \"Ground Truth\": row[\"Skylights\"],\n",
    "        \"Prediction\": response\n",
    "    })\n",
    "\n",
    "skylight_df = pd.DataFrame(skylight_results)\n"
   ]
  },
  {
   "cell_type": "markdown",
   "id": "f858151b-8c06-4cc5-a084-dcbdc2b224c9",
   "metadata": {},
   "source": [
    "### Evaluate Predictions + Export CSV and Confusion Matrix"
   ]
  },
  {
   "cell_type": "code",
   "execution_count": 6,
   "id": "046cd705-06e7-4f07-a658-874cbfa0f0a7",
   "metadata": {},
   "outputs": [],
   "source": [
    "import matplotlib.pyplot as plt\n",
    "import seaborn as sns\n",
    "from sklearn.metrics import accuracy_score, classification_report, confusion_matrix\n",
    "\n",
    "# Directories to save outputs\n",
    "csv_output_dir = \"/mnt/data/oe215/env/guna/Qwen_2.5_VL/Qwen_7B/Predictions\"\n",
    "cm_output_dir = \"/mnt/data/oe215/env/guna/Qwen_2.5_VL/Qwen_7B/Confusion Matrix\"\n",
    "os.makedirs(csv_output_dir, exist_ok=True)\n",
    "os.makedirs(cm_output_dir, exist_ok=True)\n",
    "\n",
    "def evaluate_and_save_binary(df, name, gt_col=\"Ground Truth\", pred_col=\"Prediction\"):\n",
    "    df[\"Prediction_Normalized\"] = df[pred_col].str.strip().str.lower().str.extract(r'(yes|no)')[0].map({\"yes\": \"Y\", \"no\": \"N\"})\n",
    "    eval_df = df.dropna(subset=[\"Prediction_Normalized\"]).copy()\n",
    "    eval_df[\"Ground Truth Binary\"] = eval_df[gt_col].map({\"Y\": 1, \"N\": 0})\n",
    "    eval_df[\"Prediction Binary\"] = eval_df[\"Prediction_Normalized\"].map({\"Y\": 1, \"N\": 0})\n",
    "\n",
    "    y_true = eval_df[\"Ground Truth Binary\"]\n",
    "    y_pred = eval_df[\"Prediction Binary\"]\n",
    "\n",
    "    print(f\"\\n=== {name.upper()} ===\")\n",
    "    print(\"Accuracy:\", accuracy_score(y_true, y_pred))\n",
    "    print(classification_report(y_true, y_pred, target_names=[\"No\", \"Yes\"], zero_division=0))\n",
    "\n",
    "    cm = confusion_matrix(y_true, y_pred, labels=[0, 1])\n",
    "    plt.figure(figsize=(5, 4))\n",
    "    sns.heatmap(cm, annot=True, fmt=\"d\", xticklabels=[\"No\", \"Yes\"], yticklabels=[\"No\", \"Yes\"], cmap=\"Blues\")\n",
    "    plt.xlabel(\"Predicted\")\n",
    "    plt.ylabel(\"Actual\")\n",
    "    plt.title(f\"{name} - Confusion Matrix\")\n",
    "    cm_path = os.path.join(cm_output_dir, f\"{name.lower().replace(' ', '_')}_confusion_matrix.png\")\n",
    "    plt.savefig(cm_path, bbox_inches=\"tight\")\n",
    "    plt.close()\n",
    "\n",
    "    # Save CSV\n",
    "    export_df = eval_df[[\"FS_DE_ID\", \"Ground Truth Binary\", \"Prediction Binary\"]]\n",
    "    csv_path = os.path.join(csv_output_dir, f\"{name.lower().replace(' ', '_')}_predictions.csv\")\n",
    "    export_df.to_csv(csv_path, index=False)\n",
    "\n",
    "    print(f\"✅ Saved to:\\n- {csv_path}\\n- {cm_path}\")\n"
   ]
  },
  {
   "cell_type": "code",
   "execution_count": 7,
   "id": "95815d8b-9683-47c2-9324-633dbf2b0c47",
   "metadata": {},
   "outputs": [
    {
     "name": "stdout",
     "output_type": "stream",
     "text": [
      "\n",
      "=== SKYLIGHTS ===\n",
      "Accuracy: 0.6265060240963856\n",
      "              precision    recall  f1-score   support\n",
      "\n",
      "          No       0.72      0.77      0.75       177\n",
      "         Yes       0.32      0.26      0.29        72\n",
      "\n",
      "    accuracy                           0.63       249\n",
      "   macro avg       0.52      0.52      0.52       249\n",
      "weighted avg       0.61      0.63      0.61       249\n",
      "\n",
      "✅ Saved to:\n",
      "- /mnt/data/oe215/env/guna/Qwen_2.5_VL/Qwen_7B/Predictions/skylights_predictions.csv\n",
      "- /mnt/data/oe215/env/guna/Qwen_2.5_VL/Qwen_7B/Confusion Matrix/skylights_confusion_matrix.png\n"
     ]
    }
   ],
   "source": [
    "evaluate_and_save_binary(skylight_df, \"Skylights\")"
   ]
  },
  {
   "attachments": {},
   "cell_type": "markdown",
   "id": "0b10d7d4-3665-42dc-9abc-46541dd63baa",
   "metadata": {},
   "source": [
    "### Dormer Windows inference\n"
   ]
  },
  {
   "cell_type": "code",
   "execution_count": 7,
   "id": "e02c5222-fdc2-4cf6-bccf-ae889f0a2677",
   "metadata": {},
   "outputs": [
    {
     "name": "stderr",
     "output_type": "stream",
     "text": [
      "  0%|          | 0/249 [00:00<?, ?it/s]/mnt/home/gjenni/.local/lib/python3.12/site-packages/transformers/generation/configuration_utils.py:629: UserWarning: `do_sample` is set to `False`. However, `temperature` is set to `1e-06` -- this flag is only used in sample-based generation modes. You should set `do_sample=True` or unset `temperature`.\n",
      "  warnings.warn(\n",
      "100%|██████████| 249/249 [00:40<00:00,  6.17it/s]\n"
     ]
    }
   ],
   "source": [
    "from tqdm import tqdm\n",
    "\n",
    "# 🧠 Updated prompt for Dormer Windows\n",
    "prompt = \"Does the roof of the building have any dormer windows? Answer with only 'Yes' or 'No' by properly analyzing the image.\"\n",
    "\n",
    "dormer_results = []\n",
    "\n",
    "for idx, row in tqdm(df.iterrows(), total=len(df)):\n",
    "    fs_id = row[\"FS_DE_ID\"]\n",
    "    image_path = os.path.join(image_folder, f\"{fs_id}.png\")\n",
    "\n",
    "    if os.path.exists(image_path):\n",
    "        try:\n",
    "            response = run_qwen_inference(image_path, prompt)\n",
    "        except Exception as e:\n",
    "            response = f\"Error: {e}\"\n",
    "    else:\n",
    "        response = \"Image not found\"\n",
    "\n",
    "    dormer_results.append({\n",
    "        \"FS_DE_ID\": fs_id,\n",
    "        \"Ground Truth\": row[\"Dormer Windows\"],\n",
    "        \"Prediction\": response\n",
    "    })\n",
    "\n",
    "dormer_df = pd.DataFrame(dormer_results)\n"
   ]
  },
  {
   "cell_type": "code",
   "execution_count": 8,
   "id": "f9206c4a-db0c-45cc-b8fa-9707d7467488",
   "metadata": {},
   "outputs": [],
   "source": [
    "import matplotlib.pyplot as plt\n",
    "import seaborn as sns\n",
    "from sklearn.metrics import accuracy_score, classification_report, confusion_matrix\n",
    "\n",
    "# Directories to save outputs\n",
    "csv_output_dir = \"/mnt/data/oe215/env/guna/Qwen_2.5_VL/Qwen_7B/Predictions\"\n",
    "cm_output_dir = \"/mnt/data/oe215/env/guna/Qwen_2.5_VL/Qwen_7B/Confusion Matrix\"\n",
    "os.makedirs(csv_output_dir, exist_ok=True)\n",
    "os.makedirs(cm_output_dir, exist_ok=True)\n",
    "\n",
    "def evaluate_and_save_binary(df, name, gt_col=\"Ground Truth\", pred_col=\"Prediction\"):\n",
    "    # Normalize predictions\n",
    "    df[\"Prediction_Normalized\"] = df[pred_col].str.strip().str.lower().str.extract(r'(yes|no)')[0].map({\"yes\": \"Y\", \"no\": \"N\"})\n",
    "\n",
    "    # Drop any rows with missing prediction or ground truth\n",
    "    before = len(df)\n",
    "    eval_df = df.dropna(subset=[\"Prediction_Normalized\", gt_col]).copy()\n",
    "    dropped = before - len(eval_df)\n",
    "\n",
    "    if dropped > 0:\n",
    "        print(f\"⚠️ Dropped {dropped} row(s) due to missing values in prediction or ground truth.\")\n",
    "\n",
    "    # Binary conversion\n",
    "    eval_df[\"Ground Truth Binary\"] = eval_df[gt_col].map({\"Y\": 1, \"N\": 0})\n",
    "    eval_df[\"Prediction Binary\"] = eval_df[\"Prediction_Normalized\"].map({\"Y\": 1, \"N\": 0})\n",
    "\n",
    "    y_true = eval_df[\"Ground Truth Binary\"]\n",
    "    y_pred = eval_df[\"Prediction Binary\"]\n",
    "\n",
    "    print(f\"\\n=== {name.upper()} ===\")\n",
    "    print(\"Accuracy:\", accuracy_score(y_true, y_pred))\n",
    "    print(classification_report(y_true, y_pred, target_names=[\"No\", \"Yes\"], zero_division=0))\n",
    "\n",
    "    # Confusion Matrix\n",
    "    cm = confusion_matrix(y_true, y_pred, labels=[0, 1])\n",
    "    plt.figure(figsize=(5, 4))\n",
    "    sns.heatmap(cm, annot=True, fmt=\"d\", xticklabels=[\"No\", \"Yes\"], yticklabels=[\"No\", \"Yes\"], cmap=\"Blues\")\n",
    "    plt.xlabel(\"Predicted\")\n",
    "    plt.ylabel(\"Actual\")\n",
    "    plt.title(f\"{name} - Confusion Matrix\")\n",
    "    cm_path = os.path.join(cm_output_dir, f\"{name.lower().replace(' ', '_')}_confusion_matrix.png\")\n",
    "    plt.savefig(cm_path, bbox_inches=\"tight\")\n",
    "    plt.close()\n",
    "\n",
    "    # Save to CSV\n",
    "    export_df = eval_df[[\"FS_DE_ID\", \"Ground Truth Binary\", \"Prediction Binary\"]]\n",
    "    csv_path = os.path.join(csv_output_dir, f\"{name.lower().replace(' ', '_')}_predictions.csv\")\n",
    "    export_df.to_csv(csv_path, index=False)\n",
    "\n",
    "    print(f\"✅ Saved to:\\n- {csv_path}\\n- {cm_path}\")\n"
   ]
  },
  {
   "cell_type": "code",
   "execution_count": 9,
   "id": "be126cf2-ab71-4e8b-bdf3-13793f339778",
   "metadata": {},
   "outputs": [
    {
     "name": "stdout",
     "output_type": "stream",
     "text": [
      "\n",
      "=== DORMER WINDOWS ===\n"
     ]
    },
    {
     "name": "stderr",
     "output_type": "stream",
     "text": [
      "/mnt/home/gjenni/.local/lib/python3.12/site-packages/sklearn/utils/_array_api.py:390: RuntimeWarning: invalid value encountered in cast\n",
      "  return x.astype(dtype, copy=copy, casting=casting)\n"
     ]
    },
    {
     "ename": "ValueError",
     "evalue": "Input y_true contains NaN.",
     "output_type": "error",
     "traceback": [
      "\u001b[0;31m---------------------------------------------------------------------------\u001b[0m",
      "\u001b[0;31mValueError\u001b[0m                                Traceback (most recent call last)",
      "Cell \u001b[0;32mIn[9], line 1\u001b[0m\n\u001b[0;32m----> 1\u001b[0m evaluate_and_save_binary(dormer_df, \u001b[38;5;124m\"\u001b[39m\u001b[38;5;124mDormer Windows\u001b[39m\u001b[38;5;124m\"\u001b[39m)\n",
      "Cell \u001b[0;32mIn[8], line 31\u001b[0m, in \u001b[0;36mevaluate_and_save_binary\u001b[0;34m(df, name, gt_col, pred_col)\u001b[0m\n\u001b[1;32m     28\u001b[0m y_pred \u001b[38;5;241m=\u001b[39m eval_df[\u001b[38;5;124m\"\u001b[39m\u001b[38;5;124mPrediction Binary\u001b[39m\u001b[38;5;124m\"\u001b[39m]\n\u001b[1;32m     30\u001b[0m \u001b[38;5;28mprint\u001b[39m(\u001b[38;5;124mf\u001b[39m\u001b[38;5;124m\"\u001b[39m\u001b[38;5;130;01m\\n\u001b[39;00m\u001b[38;5;124m=== \u001b[39m\u001b[38;5;132;01m{\u001b[39;00mname\u001b[38;5;241m.\u001b[39mupper()\u001b[38;5;132;01m}\u001b[39;00m\u001b[38;5;124m ===\u001b[39m\u001b[38;5;124m\"\u001b[39m)\n\u001b[0;32m---> 31\u001b[0m \u001b[38;5;28mprint\u001b[39m(\u001b[38;5;124m\"\u001b[39m\u001b[38;5;124mAccuracy:\u001b[39m\u001b[38;5;124m\"\u001b[39m, accuracy_score(y_true, y_pred))\n\u001b[1;32m     32\u001b[0m \u001b[38;5;28mprint\u001b[39m(classification_report(y_true, y_pred, target_names\u001b[38;5;241m=\u001b[39m[\u001b[38;5;124m\"\u001b[39m\u001b[38;5;124mNo\u001b[39m\u001b[38;5;124m\"\u001b[39m, \u001b[38;5;124m\"\u001b[39m\u001b[38;5;124mYes\u001b[39m\u001b[38;5;124m\"\u001b[39m], zero_division\u001b[38;5;241m=\u001b[39m\u001b[38;5;241m0\u001b[39m))\n\u001b[1;32m     34\u001b[0m \u001b[38;5;66;03m# Confusion Matrix\u001b[39;00m\n",
      "File \u001b[0;32m~/.local/lib/python3.12/site-packages/sklearn/utils/_param_validation.py:213\u001b[0m, in \u001b[0;36mvalidate_params.<locals>.decorator.<locals>.wrapper\u001b[0;34m(*args, **kwargs)\u001b[0m\n\u001b[1;32m    207\u001b[0m \u001b[38;5;28;01mtry\u001b[39;00m:\n\u001b[1;32m    208\u001b[0m     \u001b[38;5;28;01mwith\u001b[39;00m config_context(\n\u001b[1;32m    209\u001b[0m         skip_parameter_validation\u001b[38;5;241m=\u001b[39m(\n\u001b[1;32m    210\u001b[0m             prefer_skip_nested_validation \u001b[38;5;129;01mor\u001b[39;00m global_skip_validation\n\u001b[1;32m    211\u001b[0m         )\n\u001b[1;32m    212\u001b[0m     ):\n\u001b[0;32m--> 213\u001b[0m         \u001b[38;5;28;01mreturn\u001b[39;00m func(\u001b[38;5;241m*\u001b[39margs, \u001b[38;5;241m*\u001b[39m\u001b[38;5;241m*\u001b[39mkwargs)\n\u001b[1;32m    214\u001b[0m \u001b[38;5;28;01mexcept\u001b[39;00m InvalidParameterError \u001b[38;5;28;01mas\u001b[39;00m e:\n\u001b[1;32m    215\u001b[0m     \u001b[38;5;66;03m# When the function is just a wrapper around an estimator, we allow\u001b[39;00m\n\u001b[1;32m    216\u001b[0m     \u001b[38;5;66;03m# the function to delegate validation to the estimator, but we replace\u001b[39;00m\n\u001b[1;32m    217\u001b[0m     \u001b[38;5;66;03m# the name of the estimator by the name of the function in the error\u001b[39;00m\n\u001b[1;32m    218\u001b[0m     \u001b[38;5;66;03m# message to avoid confusion.\u001b[39;00m\n\u001b[1;32m    219\u001b[0m     msg \u001b[38;5;241m=\u001b[39m re\u001b[38;5;241m.\u001b[39msub(\n\u001b[1;32m    220\u001b[0m         \u001b[38;5;124mr\u001b[39m\u001b[38;5;124m\"\u001b[39m\u001b[38;5;124mparameter of \u001b[39m\u001b[38;5;124m\\\u001b[39m\u001b[38;5;124mw+ must be\u001b[39m\u001b[38;5;124m\"\u001b[39m,\n\u001b[1;32m    221\u001b[0m         \u001b[38;5;124mf\u001b[39m\u001b[38;5;124m\"\u001b[39m\u001b[38;5;124mparameter of \u001b[39m\u001b[38;5;132;01m{\u001b[39;00mfunc\u001b[38;5;241m.\u001b[39m\u001b[38;5;18m__qualname__\u001b[39m\u001b[38;5;132;01m}\u001b[39;00m\u001b[38;5;124m must be\u001b[39m\u001b[38;5;124m\"\u001b[39m,\n\u001b[1;32m    222\u001b[0m         \u001b[38;5;28mstr\u001b[39m(e),\n\u001b[1;32m    223\u001b[0m     )\n",
      "File \u001b[0;32m~/.local/lib/python3.12/site-packages/sklearn/metrics/_classification.py:231\u001b[0m, in \u001b[0;36maccuracy_score\u001b[0;34m(y_true, y_pred, normalize, sample_weight)\u001b[0m\n\u001b[1;32m    229\u001b[0m xp, _, device \u001b[38;5;241m=\u001b[39m get_namespace_and_device(y_true, y_pred, sample_weight)\n\u001b[1;32m    230\u001b[0m \u001b[38;5;66;03m# Compute accuracy for each possible representation\u001b[39;00m\n\u001b[0;32m--> 231\u001b[0m y_type, y_true, y_pred \u001b[38;5;241m=\u001b[39m _check_targets(y_true, y_pred)\n\u001b[1;32m    232\u001b[0m check_consistent_length(y_true, y_pred, sample_weight)\n\u001b[1;32m    233\u001b[0m \u001b[38;5;28;01mif\u001b[39;00m y_type\u001b[38;5;241m.\u001b[39mstartswith(\u001b[38;5;124m\"\u001b[39m\u001b[38;5;124mmultilabel\u001b[39m\u001b[38;5;124m\"\u001b[39m):\n",
      "File \u001b[0;32m~/.local/lib/python3.12/site-packages/sklearn/metrics/_classification.py:104\u001b[0m, in \u001b[0;36m_check_targets\u001b[0;34m(y_true, y_pred)\u001b[0m\n\u001b[1;32m    102\u001b[0m xp, _ \u001b[38;5;241m=\u001b[39m get_namespace(y_true, y_pred)\n\u001b[1;32m    103\u001b[0m check_consistent_length(y_true, y_pred)\n\u001b[0;32m--> 104\u001b[0m type_true \u001b[38;5;241m=\u001b[39m type_of_target(y_true, input_name\u001b[38;5;241m=\u001b[39m\u001b[38;5;124m\"\u001b[39m\u001b[38;5;124my_true\u001b[39m\u001b[38;5;124m\"\u001b[39m)\n\u001b[1;32m    105\u001b[0m type_pred \u001b[38;5;241m=\u001b[39m type_of_target(y_pred, input_name\u001b[38;5;241m=\u001b[39m\u001b[38;5;124m\"\u001b[39m\u001b[38;5;124my_pred\u001b[39m\u001b[38;5;124m\"\u001b[39m)\n\u001b[1;32m    107\u001b[0m y_type \u001b[38;5;241m=\u001b[39m {type_true, type_pred}\n",
      "File \u001b[0;32m~/.local/lib/python3.12/site-packages/sklearn/utils/multiclass.py:398\u001b[0m, in \u001b[0;36mtype_of_target\u001b[0;34m(y, input_name)\u001b[0m\n\u001b[1;32m    396\u001b[0m     data \u001b[38;5;241m=\u001b[39m y\u001b[38;5;241m.\u001b[39mdata \u001b[38;5;28;01mif\u001b[39;00m issparse(y) \u001b[38;5;28;01melse\u001b[39;00m y\n\u001b[1;32m    397\u001b[0m     \u001b[38;5;28;01mif\u001b[39;00m xp\u001b[38;5;241m.\u001b[39many(data \u001b[38;5;241m!=\u001b[39m xp\u001b[38;5;241m.\u001b[39mastype(data, \u001b[38;5;28mint\u001b[39m)):\n\u001b[0;32m--> 398\u001b[0m         _assert_all_finite(data, input_name\u001b[38;5;241m=\u001b[39minput_name)\n\u001b[1;32m    399\u001b[0m         \u001b[38;5;28;01mreturn\u001b[39;00m \u001b[38;5;124m\"\u001b[39m\u001b[38;5;124mcontinuous\u001b[39m\u001b[38;5;124m\"\u001b[39m \u001b[38;5;241m+\u001b[39m suffix\n\u001b[1;32m    401\u001b[0m \u001b[38;5;66;03m# Check multiclass\u001b[39;00m\n",
      "File \u001b[0;32m~/.local/lib/python3.12/site-packages/sklearn/utils/validation.py:123\u001b[0m, in \u001b[0;36m_assert_all_finite\u001b[0;34m(X, allow_nan, msg_dtype, estimator_name, input_name)\u001b[0m\n\u001b[1;32m    120\u001b[0m \u001b[38;5;28;01mif\u001b[39;00m first_pass_isfinite:\n\u001b[1;32m    121\u001b[0m     \u001b[38;5;28;01mreturn\u001b[39;00m\n\u001b[0;32m--> 123\u001b[0m _assert_all_finite_element_wise(\n\u001b[1;32m    124\u001b[0m     X,\n\u001b[1;32m    125\u001b[0m     xp\u001b[38;5;241m=\u001b[39mxp,\n\u001b[1;32m    126\u001b[0m     allow_nan\u001b[38;5;241m=\u001b[39mallow_nan,\n\u001b[1;32m    127\u001b[0m     msg_dtype\u001b[38;5;241m=\u001b[39mmsg_dtype,\n\u001b[1;32m    128\u001b[0m     estimator_name\u001b[38;5;241m=\u001b[39mestimator_name,\n\u001b[1;32m    129\u001b[0m     input_name\u001b[38;5;241m=\u001b[39minput_name,\n\u001b[1;32m    130\u001b[0m )\n",
      "File \u001b[0;32m~/.local/lib/python3.12/site-packages/sklearn/utils/validation.py:172\u001b[0m, in \u001b[0;36m_assert_all_finite_element_wise\u001b[0;34m(X, xp, allow_nan, msg_dtype, estimator_name, input_name)\u001b[0m\n\u001b[1;32m    155\u001b[0m \u001b[38;5;28;01mif\u001b[39;00m estimator_name \u001b[38;5;129;01mand\u001b[39;00m input_name \u001b[38;5;241m==\u001b[39m \u001b[38;5;124m\"\u001b[39m\u001b[38;5;124mX\u001b[39m\u001b[38;5;124m\"\u001b[39m \u001b[38;5;129;01mand\u001b[39;00m has_nan_error:\n\u001b[1;32m    156\u001b[0m     \u001b[38;5;66;03m# Improve the error message on how to handle missing values in\u001b[39;00m\n\u001b[1;32m    157\u001b[0m     \u001b[38;5;66;03m# scikit-learn.\u001b[39;00m\n\u001b[1;32m    158\u001b[0m     msg_err \u001b[38;5;241m+\u001b[39m\u001b[38;5;241m=\u001b[39m (\n\u001b[1;32m    159\u001b[0m         \u001b[38;5;124mf\u001b[39m\u001b[38;5;124m\"\u001b[39m\u001b[38;5;130;01m\\n\u001b[39;00m\u001b[38;5;132;01m{\u001b[39;00mestimator_name\u001b[38;5;132;01m}\u001b[39;00m\u001b[38;5;124m does not accept missing values\u001b[39m\u001b[38;5;124m\"\u001b[39m\n\u001b[1;32m    160\u001b[0m         \u001b[38;5;124m\"\u001b[39m\u001b[38;5;124m encoded as NaN natively. For supervised learning, you might want\u001b[39m\u001b[38;5;124m\"\u001b[39m\n\u001b[0;32m   (...)\u001b[0m\n\u001b[1;32m    170\u001b[0m         \u001b[38;5;124m\"\u001b[39m\u001b[38;5;124m#estimators-that-handle-nan-values\u001b[39m\u001b[38;5;124m\"\u001b[39m\n\u001b[1;32m    171\u001b[0m     )\n\u001b[0;32m--> 172\u001b[0m \u001b[38;5;28;01mraise\u001b[39;00m \u001b[38;5;167;01mValueError\u001b[39;00m(msg_err)\n",
      "\u001b[0;31mValueError\u001b[0m: Input y_true contains NaN."
     ]
    }
   ],
   "source": [
    "evaluate_and_save_binary(dormer_df, \"Dormer Windows\")"
   ]
  },
  {
   "cell_type": "markdown",
   "id": "8b7ff5f9-1ae0-4397-9055-b9e7d21533f2",
   "metadata": {},
   "source": [
    "### Vents Inference"
   ]
  },
  {
   "cell_type": "code",
   "execution_count": 24,
   "id": "a2b899d9-28d0-4822-961b-0d6491d1cc97",
   "metadata": {},
   "outputs": [
    {
     "name": "stderr",
     "output_type": "stream",
     "text": [
      "  0%|          | 0/249 [00:00<?, ?it/s]/mnt/home/gjenni/.local/lib/python3.12/site-packages/transformers/generation/configuration_utils.py:628: UserWarning: `do_sample` is set to `False`. However, `temperature` is set to `1e-06` -- this flag is only used in sample-based generation modes. You should set `do_sample=True` or unset `temperature`.\n",
      "  warnings.warn(\n",
      "100%|██████████| 249/249 [00:40<00:00,  6.14it/s]\n"
     ]
    }
   ],
   "source": [
    "from tqdm import tqdm\n",
    "\n",
    "\n",
    "prompt = \"Does the roof of the building have any vents or chimneys? Answer with only 'Yes' or 'No' by properly analyzing the image?\"\n",
    "\n",
    "vents_results = []\n",
    "\n",
    "for idx, row in tqdm(df.iterrows(), total=len(df)):\n",
    "    fs_id = row[\"FS_DE_ID\"]\n",
    "    image_path = os.path.join(image_folder, f\"{fs_id}.png\")\n",
    "\n",
    "    if os.path.exists(image_path):\n",
    "        try:\n",
    "            response = run_qwen_inference(image_path, prompt)\n",
    "        except Exception as e:\n",
    "            response = f\"Error: {e}\"\n",
    "    else:\n",
    "        response = \"Image not found\"\n",
    "\n",
    "    vents_results.append({\n",
    "        \"FS_DE_ID\": fs_id,\n",
    "        \"Ground Truth\": row[\"Vents/Chimneys\"],\n",
    "        \"Prediction\": response\n",
    "    })\n",
    "\n",
    "vents_df = pd.DataFrame(vents_results)\n"
   ]
  },
  {
   "cell_type": "code",
   "execution_count": 25,
   "id": "6f24dfff-b43f-4b1c-8963-2052ce5df202",
   "metadata": {},
   "outputs": [],
   "source": [
    "import matplotlib.pyplot as plt\n",
    "import seaborn as sns\n",
    "from sklearn.metrics import accuracy_score, classification_report, confusion_matrix\n",
    "\n",
    "# Directories to save outputs\n",
    "csv_output_dir = \"/mnt/data/oe215/env/guna/Qwen_2.5_VL/Qwen_7B/Predictions\"\n",
    "cm_output_dir = \"/mnt/data/oe215/env/guna/Qwen_2.5_VL/Qwen_7B/Confusion Matrix\"\n",
    "os.makedirs(csv_output_dir, exist_ok=True)\n",
    "os.makedirs(cm_output_dir, exist_ok=True)\n",
    "\n",
    "def evaluate_and_save_binary(df, name, gt_col=\"Ground Truth\", pred_col=\"Prediction\"):\n",
    "    df[\"Prediction_Normalized\"] = df[pred_col].str.strip().str.lower().str.extract(r'(yes|no)')[0].map({\"yes\": \"Y\", \"no\": \"N\"})\n",
    "    eval_df = df.dropna(subset=[\"Prediction_Normalized\"]).copy()\n",
    "    eval_df[\"Ground Truth Binary\"] = eval_df[gt_col].map({\"Y\": 1, \"N\": 0})\n",
    "    eval_df[\"Prediction Binary\"] = eval_df[\"Prediction_Normalized\"].map({\"Y\": 1, \"N\": 0})\n",
    "\n",
    "    y_true = eval_df[\"Ground Truth Binary\"]\n",
    "    y_pred = eval_df[\"Prediction Binary\"]\n",
    "\n",
    "    print(f\"\\n=== {name.upper()} ===\")\n",
    "    print(\"Accuracy:\", accuracy_score(y_true, y_pred))\n",
    "    print(classification_report(y_true, y_pred, target_names=[\"No\", \"Yes\"], zero_division=0))\n",
    "\n",
    "    cm = confusion_matrix(y_true, y_pred, labels=[0, 1])\n",
    "    plt.figure(figsize=(5, 4))\n",
    "    sns.heatmap(cm, annot=True, fmt=\"d\", xticklabels=[\"No\", \"Yes\"], yticklabels=[\"No\", \"Yes\"], cmap=\"Blues\")\n",
    "    plt.xlabel(\"Predicted\")\n",
    "    plt.ylabel(\"Actual\")\n",
    "    plt.title(f\"{name} - Confusion Matrix\")\n",
    "    cm_path = os.path.join(cm_output_dir, f\"{name.lower().replace(' ', '_')}_confusion_matrix.png\")\n",
    "    plt.savefig(cm_path, bbox_inches=\"tight\")\n",
    "    plt.close()\n",
    "\n",
    "    # Save CSV\n",
    "    export_df = eval_df[[\"FS_DE_ID\", \"Ground Truth Binary\", \"Prediction Binary\"]]\n",
    "    csv_path = os.path.join(csv_output_dir, f\"{name.lower().replace(' ', '_')}_predictions.csv\")\n",
    "    export_df.to_csv(csv_path, index=False)\n",
    "\n",
    "    print(f\"✅ Saved to:\\n- {csv_path}\\n- {cm_path}\")\n"
   ]
  },
  {
   "cell_type": "code",
   "execution_count": 26,
   "id": "2232bc13-2504-46ad-831a-f2f2d5b38c61",
   "metadata": {},
   "outputs": [
    {
     "name": "stdout",
     "output_type": "stream",
     "text": [
      "\n",
      "=== VENTS ===\n",
      "Accuracy: 0.321285140562249\n",
      "              precision    recall  f1-score   support\n",
      "\n",
      "          No       0.09      0.94      0.16        17\n",
      "         Yes       0.98      0.28      0.43       232\n",
      "\n",
      "    accuracy                           0.32       249\n",
      "   macro avg       0.54      0.61      0.30       249\n",
      "weighted avg       0.92      0.32      0.41       249\n",
      "\n",
      "✅ Saved to:\n",
      "- /mnt/data/oe215/env/guna/Qwen_2.5_VL/Qwen_7B/Predictions/vents_predictions.csv\n",
      "- /mnt/data/oe215/env/guna/Qwen_2.5_VL/Qwen_7B/Confusion Matrix/vents_confusion_matrix.png\n"
     ]
    }
   ],
   "source": [
    "evaluate_and_save_binary(vents_df, \"Vents\")"
   ]
  },
  {
   "cell_type": "markdown",
   "id": "14756bd6-5d21-443b-8673-ca1861ee8fcc",
   "metadata": {},
   "source": [
    "### Run Inference for Hipped"
   ]
  },
  {
   "cell_type": "code",
   "execution_count": 54,
   "id": "8b4f0207-9297-49af-9cf5-4dd3bf0ab115",
   "metadata": {},
   "outputs": [
    {
     "name": "stderr",
     "output_type": "stream",
     "text": [
      "100%|██████████| 249/249 [00:40<00:00,  6.19it/s]\n"
     ]
    }
   ],
   "source": [
    "from tqdm import tqdm\n",
    "\n",
    "prompt = \"Is the roof of the building of hipped type? Answer with only 'Yes' or 'No' by properly analyzing the image?\"\n",
    "\n",
    "hipped_results = []\n",
    "\n",
    "for idx, row in tqdm(df.iterrows(), total=len(df)):\n",
    "    fs_id = row[\"FS_DE_ID\"]\n",
    "    image_path = os.path.join(image_folder, f\"{fs_id}.png\")\n",
    "\n",
    "    if os.path.exists(image_path):\n",
    "        try:\n",
    "            response = run_qwen_inference(image_path, prompt)\n",
    "        except Exception as e:\n",
    "            response = f\"Error: {e}\"\n",
    "    else:\n",
    "        response = \"Image not found\"\n",
    "\n",
    "    hipped_results.append({\n",
    "        \"FS_DE_ID\": fs_id,\n",
    "        \"Ground Truth\": row[\"Hipped\"],\n",
    "        \"Prediction\": response\n",
    "    })\n",
    "\n",
    "hipped_df = pd.DataFrame(hipped_results)\n"
   ]
  },
  {
   "cell_type": "markdown",
   "id": "5cf7c76f-527f-4cdd-8462-9a5bbef2b5d5",
   "metadata": {},
   "source": [
    "### Hipped Evaluate Predictions + Export CSV and Confusion Matrix"
   ]
  },
  {
   "cell_type": "code",
   "execution_count": 57,
   "id": "7dac5e28-0d8b-426e-9491-1377a10a9370",
   "metadata": {},
   "outputs": [],
   "source": [
    "import os\n",
    "import matplotlib.pyplot as plt\n",
    "import seaborn as sns\n",
    "from sklearn.metrics import accuracy_score, classification_report, confusion_matrix\n",
    "\n",
    "# Save directories\n",
    "csv_output_dir = \"/mnt/data/oe215/env/guna/Qwen_2.5_VL/Qwen_7B/Predictions\"\n",
    "cm_output_dir = \"/mnt/data/oe215/env/guna/Qwen_2.5_VL/Qwen_7B/Confusion Matrix\"\n",
    "os.makedirs(csv_output_dir, exist_ok=True)\n",
    "os.makedirs(cm_output_dir, exist_ok=True)\n",
    "\n",
    "# ✅ Improved Yes/No extractor\n",
    "def extract_yes_no(text):\n",
    "    if not isinstance(text, str):\n",
    "        return None\n",
    "    text = text.strip().lower()\n",
    "    if 'yes' in text and 'no' not in text:\n",
    "        return 'Y'\n",
    "    elif 'no' in text and 'yes' not in text:\n",
    "        return 'N'\n",
    "    return None  # ambiguous or both present\n",
    "\n",
    "def evaluate_and_save_binary(df, name, gt_col=\"Ground Truth\", pred_col=\"Prediction\"):\n",
    "    df[\"Prediction_Normalized\"] = df[pred_col].apply(extract_yes_no)\n",
    "\n",
    "    # Filter rows where prediction could be extracted\n",
    "    eval_df = df.dropna(subset=[\"Prediction_Normalized\"]).copy()\n",
    "\n",
    "    if eval_df.empty:\n",
    "        print(f\"\\n🚫 Skipping '{name}' — no valid yes/no predictions found.\")\n",
    "        return\n",
    "\n",
    "    # Convert Y/N to 1/0\n",
    "    eval_df[\"Ground Truth Binary\"] = eval_df[gt_col].map({\"Y\": 1, \"N\": 0})\n",
    "    eval_df[\"Prediction Binary\"] = eval_df[\"Prediction_Normalized\"].map({\"Y\": 1, \"N\": 0})\n",
    "\n",
    "    y_true = eval_df[\"Ground Truth Binary\"]\n",
    "    y_pred = eval_df[\"Prediction Binary\"]\n",
    "\n",
    "    print(f\"\\n=== {name.upper()} ===\")\n",
    "    print(\"Accuracy:\", accuracy_score(y_true, y_pred))\n",
    "    print(classification_report(y_true, y_pred, target_names=[\"No\", \"Yes\"], zero_division=0))\n",
    "\n",
    "    # Confusion Matrix\n",
    "    cm = confusion_matrix(y_true, y_pred, labels=[0, 1])\n",
    "    plt.figure(figsize=(5, 4))\n",
    "    sns.heatmap(cm, annot=True, fmt=\"d\", xticklabels=[\"No\", \"Yes\"], yticklabels=[\"No\", \"Yes\"], cmap=\"Blues\")\n",
    "    plt.xlabel(\"Predicted\")\n",
    "    plt.ylabel(\"Actual\")\n",
    "    plt.title(f\"{name} - Confusion Matrix\")\n",
    "    cm_path = os.path.join(cm_output_dir, f\"{name.lower().replace(' ', '_')}_confusion_matrix.png\")\n",
    "    plt.savefig(cm_path, bbox_inches=\"tight\")\n",
    "    plt.close()\n",
    "\n",
    "    # Save predictions\n",
    "    export_df = eval_df[[\"FS_DE_ID\", \"Ground Truth Binary\", \"Prediction Binary\"]]\n",
    "    csv_path = os.path.join(csv_output_dir, f\"{name.lower().replace(' ', '_')}_predictions.csv\")\n",
    "    export_df.to_csv(csv_path, index=False)\n",
    "\n",
    "    print(f\"✅ Saved to:\\n- {csv_path}\\n- {cm_path}\")\n",
    "\n"
   ]
  },
  {
   "cell_type": "code",
   "execution_count": 58,
   "id": "154fcc5b-6601-46e1-a524-a7d4e6e663fc",
   "metadata": {},
   "outputs": [
    {
     "name": "stdout",
     "output_type": "stream",
     "text": [
      "\n",
      "=== HIPPED ===\n",
      "Accuracy: 0.678714859437751\n",
      "              precision    recall  f1-score   support\n",
      "\n",
      "          No       0.79      0.70      0.74       164\n",
      "         Yes       0.52      0.65      0.58        85\n",
      "\n",
      "    accuracy                           0.68       249\n",
      "   macro avg       0.66      0.67      0.66       249\n",
      "weighted avg       0.70      0.68      0.69       249\n",
      "\n",
      "✅ Saved to:\n",
      "- /mnt/data/oe215/env/guna/Qwen_2.5_VL/Qwen_7B/Predictions/hipped_predictions.csv\n",
      "- /mnt/data/oe215/env/guna/Qwen_2.5_VL/Qwen_7B/Confusion Matrix/hipped_confusion_matrix.png\n"
     ]
    }
   ],
   "source": [
    "evaluate_and_save_binary(hipped_df, \"Hipped\")"
   ]
  },
  {
   "cell_type": "markdown",
   "id": "fc805874-4c26-43d1-b0d2-1f89f6992e4f",
   "metadata": {},
   "source": [
    "### Run Inference for Mixed Hipped"
   ]
  },
  {
   "cell_type": "code",
   "execution_count": 7,
   "id": "bc96d03a-d359-47c1-83f5-66fea3673635",
   "metadata": {},
   "outputs": [
    {
     "name": "stderr",
     "output_type": "stream",
     "text": [
      "  0%|          | 0/249 [00:00<?, ?it/s]/mnt/home/gjenni/.local/lib/python3.12/site-packages/transformers/generation/configuration_utils.py:628: UserWarning: `do_sample` is set to `False`. However, `temperature` is set to `1e-06` -- this flag is only used in sample-based generation modes. You should set `do_sample=True` or unset `temperature`.\n",
      "  warnings.warn(\n",
      "100%|██████████| 249/249 [00:40<00:00,  6.20it/s]\n"
     ]
    }
   ],
   "source": [
    "from tqdm import tqdm\n",
    "\n",
    "# 🔄 Prompt tailored for mixed L-shaped hipped roof detection\n",
    "prompt = \"Is the roof of the building of Mixed (Hipped L) type? Answer with only 'Yes' or 'No' by properly analyzing the image?\"\n",
    "\n",
    "mixed_hipped_results = []\n",
    "\n",
    "for idx, row in tqdm(df.iterrows(), total=len(df)):\n",
    "    fs_id = row[\"FS_DE_ID\"]\n",
    "    image_path = os.path.join(image_folder, f\"{fs_id}.png\")\n",
    "\n",
    "    if os.path.exists(image_path):\n",
    "        try:\n",
    "            response = run_qwen_inference(image_path, prompt)\n",
    "        except Exception as e:\n",
    "            response = f\"Error: {e}\"\n",
    "    else:\n",
    "        response = \"Image not found\"\n",
    "\n",
    "    mixed_hipped_results.append({\n",
    "        \"FS_DE_ID\": fs_id,\n",
    "        \"Ground Truth\": row[\"Mixed (Hipped L)\"],\n",
    "        \"Prediction\": response\n",
    "    })\n",
    "\n",
    "mixed_hipped_df = pd.DataFrame(mixed_hipped_results)\n"
   ]
  },
  {
   "cell_type": "markdown",
   "id": "39671f3b-68bb-460b-bca2-d652f9fb6def",
   "metadata": {},
   "source": [
    "### Mixed (Hipped L) Evaluate Predictions + Export CSV and Confusion Matrix"
   ]
  },
  {
   "cell_type": "code",
   "execution_count": 8,
   "id": "f683de6f-aec4-4ed5-8ee3-d0550f0dc09e",
   "metadata": {},
   "outputs": [],
   "source": [
    "import os\n",
    "import matplotlib.pyplot as plt\n",
    "import seaborn as sns\n",
    "from sklearn.metrics import accuracy_score, classification_report, confusion_matrix\n",
    "\n",
    "# Save directories\n",
    "csv_output_dir = \"/mnt/data/oe215/env/guna/Qwen_2.5_VL/Qwen_7B/Predictions\"\n",
    "cm_output_dir = \"/mnt/data/oe215/env/guna/Qwen_2.5_VL/Qwen_7B/Confusion Matrix\"\n",
    "os.makedirs(csv_output_dir, exist_ok=True)\n",
    "os.makedirs(cm_output_dir, exist_ok=True)\n",
    "\n",
    "# ✅ Improved Yes/No extractor\n",
    "def extract_yes_no(text):\n",
    "    if not isinstance(text, str):\n",
    "        return None\n",
    "    text = text.strip().lower()\n",
    "    if 'yes' in text and 'no' not in text:\n",
    "        return 'Y'\n",
    "    elif 'no' in text and 'yes' not in text:\n",
    "        return 'N'\n",
    "    return None  # ambiguous or both present\n",
    "\n",
    "def evaluate_and_save_binary(df, name, gt_col=\"Ground Truth\", pred_col=\"Prediction\"):\n",
    "    df[\"Prediction_Normalized\"] = df[pred_col].apply(extract_yes_no)\n",
    "\n",
    "    # Filter rows where prediction could be extracted\n",
    "    eval_df = df.dropna(subset=[\"Prediction_Normalized\"]).copy()\n",
    "\n",
    "    if eval_df.empty:\n",
    "        print(f\"\\n🚫 Skipping '{name}' — no valid yes/no predictions found.\")\n",
    "        return\n",
    "\n",
    "    # Convert Y/N to 1/0\n",
    "    eval_df[\"Ground Truth Binary\"] = eval_df[gt_col].map({\"Y\": 1, \"N\": 0})\n",
    "    eval_df[\"Prediction Binary\"] = eval_df[\"Prediction_Normalized\"].map({\"Y\": 1, \"N\": 0})\n",
    "\n",
    "    y_true = eval_df[\"Ground Truth Binary\"]\n",
    "    y_pred = eval_df[\"Prediction Binary\"]\n",
    "\n",
    "    print(f\"\\n=== {name.upper()} ===\")\n",
    "    print(\"Accuracy:\", accuracy_score(y_true, y_pred))\n",
    "    print(classification_report(y_true, y_pred, target_names=[\"No\", \"Yes\"], zero_division=0))\n",
    "\n",
    "    # Confusion Matrix\n",
    "    cm = confusion_matrix(y_true, y_pred, labels=[0, 1])\n",
    "    plt.figure(figsize=(5, 4))\n",
    "    sns.heatmap(cm, annot=True, fmt=\"d\", xticklabels=[\"No\", \"Yes\"], yticklabels=[\"No\", \"Yes\"], cmap=\"Blues\")\n",
    "    plt.xlabel(\"Predicted\")\n",
    "    plt.ylabel(\"Actual\")\n",
    "    plt.title(f\"{name} - Confusion Matrix\")\n",
    "    cm_path = os.path.join(cm_output_dir, f\"{name.lower().replace(' ', '_')}_confusion_matrix.png\")\n",
    "    plt.savefig(cm_path, bbox_inches=\"tight\")\n",
    "    plt.close()\n",
    "\n",
    "    # Save predictions\n",
    "    export_df = eval_df[[\"FS_DE_ID\", \"Ground Truth Binary\", \"Prediction Binary\"]]\n",
    "    csv_path = os.path.join(csv_output_dir, f\"{name.lower().replace(' ', '_')}_predictions.csv\")\n",
    "    export_df.to_csv(csv_path, index=False)\n",
    "\n",
    "    print(f\"✅ Saved to:\\n- {csv_path}\\n- {cm_path}\")\n",
    "\n"
   ]
  },
  {
   "cell_type": "code",
   "execution_count": 9,
   "id": "43165a5e-707e-45a7-8f47-2f68676d3e2c",
   "metadata": {},
   "outputs": [
    {
     "name": "stdout",
     "output_type": "stream",
     "text": [
      "\n",
      "=== MIXED (HIPPED L) ===\n",
      "Accuracy: 0.6626506024096386\n",
      "              precision    recall  f1-score   support\n",
      "\n",
      "          No       0.88      0.67      0.76       199\n",
      "         Yes       0.33      0.64      0.43        50\n",
      "\n",
      "    accuracy                           0.66       249\n",
      "   macro avg       0.60      0.65      0.60       249\n",
      "weighted avg       0.77      0.66      0.69       249\n",
      "\n",
      "✅ Saved to:\n",
      "- /mnt/data/oe215/env/guna/Qwen_2.5_VL/Qwen_7B/Predictions/mixed_(hipped_l)_predictions.csv\n",
      "- /mnt/data/oe215/env/guna/Qwen_2.5_VL/Qwen_7B/Confusion Matrix/mixed_(hipped_l)_confusion_matrix.png\n"
     ]
    }
   ],
   "source": [
    "evaluate_and_save_binary(mixed_hipped_df, \"Mixed (Hipped L)\")"
   ]
  },
  {
   "cell_type": "markdown",
   "id": "3ac13960-b5ae-49bd-8d35-3faead56451c",
   "metadata": {},
   "source": [
    "### Run Inference for Gable"
   ]
  },
  {
   "cell_type": "code",
   "execution_count": 16,
   "id": "3c8de668-0307-43eb-9ab1-257e763ab74b",
   "metadata": {},
   "outputs": [
    {
     "name": "stderr",
     "output_type": "stream",
     "text": [
      "  0%|          | 0/249 [00:00<?, ?it/s]/mnt/home/gjenni/.local/lib/python3.12/site-packages/transformers/generation/configuration_utils.py:628: UserWarning: `do_sample` is set to `False`. However, `temperature` is set to `1e-06` -- this flag is only used in sample-based generation modes. You should set `do_sample=True` or unset `temperature`.\n",
      "  warnings.warn(\n",
      "100%|██████████| 249/249 [00:40<00:00,  6.19it/s]\n"
     ]
    }
   ],
   "source": [
    "from tqdm import tqdm\n",
    "\n",
    "prompt = \"Does the roof of the building have two sloping sides that form a triangular wall on both ends (gable roof)? Answer only with 'yes' or 'no'.\"\n",
    "\n",
    "gable_results = []\n",
    "\n",
    "for idx, row in tqdm(df.iterrows(), total=len(df)):\n",
    "    fs_id = row[\"FS_DE_ID\"]\n",
    "    image_path = os.path.join(image_folder, f\"{fs_id}.png\")\n",
    "\n",
    "    if os.path.exists(image_path):\n",
    "        try:\n",
    "            response = run_qwen_inference(image_path, prompt)\n",
    "        except Exception as e:\n",
    "            response = f\"Error: {e}\"\n",
    "    else:\n",
    "        response = \"Image not found\"\n",
    "\n",
    "    gable_results.append({\n",
    "        \"FS_DE_ID\": fs_id,\n",
    "        \"Ground Truth\": row[\"Gable\"],\n",
    "        \"Prediction\": response\n",
    "    })\n",
    "\n",
    "gable_df = pd.DataFrame(gable_results)\n"
   ]
  },
  {
   "cell_type": "markdown",
   "id": "71b629ef-19ec-4831-aa62-ce0da8a90ed1",
   "metadata": {},
   "source": [
    "### Gable Evaluate Predictions + Export CSV and Confusion Matrix"
   ]
  },
  {
   "cell_type": "code",
   "execution_count": 17,
   "id": "72c2c4bc-e6f7-4f1f-a074-70639b00a2f8",
   "metadata": {},
   "outputs": [],
   "source": [
    "import os\n",
    "import matplotlib.pyplot as plt\n",
    "import seaborn as sns\n",
    "from sklearn.metrics import accuracy_score, classification_report, confusion_matrix\n",
    "\n",
    "# Save directories\n",
    "csv_output_dir = \"/mnt/data/oe215/env/guna/Qwen_2.5_VL/Qwen_7B/Predictions\"\n",
    "cm_output_dir = \"/mnt/data/oe215/env/guna/Qwen_2.5_VL/Qwen_7B/Confusion Matrix\"\n",
    "os.makedirs(csv_output_dir, exist_ok=True)\n",
    "os.makedirs(cm_output_dir, exist_ok=True)\n",
    "\n",
    "# ✅ Improved Yes/No extractor\n",
    "def extract_yes_no(text):\n",
    "    if not isinstance(text, str):\n",
    "        return None\n",
    "    text = text.strip().lower()\n",
    "    if 'yes' in text and 'no' not in text:\n",
    "        return 'Y'\n",
    "    elif 'no' in text and 'yes' not in text:\n",
    "        return 'N'\n",
    "    return None  # ambiguous or both present\n",
    "\n",
    "def evaluate_and_save_binary(df, name, gt_col=\"Ground Truth\", pred_col=\"Prediction\"):\n",
    "    df[\"Prediction_Normalized\"] = df[pred_col].apply(extract_yes_no)\n",
    "\n",
    "    # Filter rows where prediction could be extracted\n",
    "    eval_df = df.dropna(subset=[\"Prediction_Normalized\"]).copy()\n",
    "\n",
    "    if eval_df.empty:\n",
    "        print(f\"\\n🚫 Skipping '{name}' — no valid yes/no predictions found.\")\n",
    "        return\n",
    "\n",
    "    # Convert Y/N to 1/0\n",
    "    eval_df[\"Ground Truth Binary\"] = eval_df[gt_col].map({\"Y\": 1, \"N\": 0})\n",
    "    eval_df[\"Prediction Binary\"] = eval_df[\"Prediction_Normalized\"].map({\"Y\": 1, \"N\": 0})\n",
    "\n",
    "    y_true = eval_df[\"Ground Truth Binary\"]\n",
    "    y_pred = eval_df[\"Prediction Binary\"]\n",
    "\n",
    "    print(f\"\\n=== {name.upper()} ===\")\n",
    "    print(\"Accuracy:\", accuracy_score(y_true, y_pred))\n",
    "    print(classification_report(y_true, y_pred, target_names=[\"No\", \"Yes\"], zero_division=0))\n",
    "\n",
    "    # Confusion Matrix\n",
    "    cm = confusion_matrix(y_true, y_pred, labels=[0, 1])\n",
    "    plt.figure(figsize=(5, 4))\n",
    "    sns.heatmap(cm, annot=True, fmt=\"d\", xticklabels=[\"No\", \"Yes\"], yticklabels=[\"No\", \"Yes\"], cmap=\"Blues\")\n",
    "    plt.xlabel(\"Predicted\")\n",
    "    plt.ylabel(\"Actual\")\n",
    "    plt.title(f\"{name} - Confusion Matrix\")\n",
    "    cm_path = os.path.join(cm_output_dir, f\"{name.lower().replace(' ', '_')}_confusion_matrix.png\")\n",
    "    plt.savefig(cm_path, bbox_inches=\"tight\")\n",
    "    plt.close()\n",
    "\n",
    "    # Save predictions\n",
    "    export_df = eval_df[[\"FS_DE_ID\", \"Ground Truth Binary\", \"Prediction Binary\"]]\n",
    "    csv_path = os.path.join(csv_output_dir, f\"{name.lower().replace(' ', '_')}_predictions.csv\")\n",
    "    export_df.to_csv(csv_path, index=False)\n",
    "\n",
    "    print(f\"✅ Saved to:\\n- {csv_path}\\n- {cm_path}\")\n",
    "\n"
   ]
  },
  {
   "cell_type": "code",
   "execution_count": 18,
   "id": "efdd9db7-8c73-42aa-86cc-dea88e788a7d",
   "metadata": {},
   "outputs": [
    {
     "name": "stdout",
     "output_type": "stream",
     "text": [
      "\n",
      "=== GABLE ===\n",
      "Accuracy: 0.3815261044176707\n",
      "              precision    recall  f1-score   support\n",
      "\n",
      "          No       0.36      0.03      0.05       151\n",
      "         Yes       0.38      0.93      0.54        98\n",
      "\n",
      "    accuracy                           0.38       249\n",
      "   macro avg       0.37      0.48      0.30       249\n",
      "weighted avg       0.37      0.38      0.24       249\n",
      "\n",
      "✅ Saved to:\n",
      "- /mnt/data/oe215/env/guna/Qwen_2.5_VL/Qwen_7B/Predictions/gable_predictions.csv\n",
      "- /mnt/data/oe215/env/guna/Qwen_2.5_VL/Qwen_7B/Confusion Matrix/gable_confusion_matrix.png\n"
     ]
    }
   ],
   "source": [
    "evaluate_and_save_binary(gable_df, \"Gable\")\n"
   ]
  },
  {
   "cell_type": "markdown",
   "id": "54e3dca0-44ee-4795-8ab1-e8dcc52b5325",
   "metadata": {},
   "source": [
    "### Run Inference for Mixed(Gable+Hipped)"
   ]
  },
  {
   "cell_type": "code",
   "execution_count": 19,
   "id": "49ae490f-8af7-474b-ac55-1d8fd4017a1b",
   "metadata": {},
   "outputs": [
    {
     "name": "stderr",
     "output_type": "stream",
     "text": [
      "  0%|          | 0/249 [00:00<?, ?it/s]/mnt/home/gjenni/.local/lib/python3.12/site-packages/transformers/generation/configuration_utils.py:628: UserWarning: `do_sample` is set to `False`. However, `temperature` is set to `1e-06` -- this flag is only used in sample-based generation modes. You should set `do_sample=True` or unset `temperature`.\n",
      "  warnings.warn(\n",
      "100%|██████████| 249/249 [00:40<00:00,  6.19it/s]\n"
     ]
    }
   ],
   "source": [
    "from tqdm import tqdm\n",
    "\n",
    "prompt = \"Does the roof of the building combine both gable and hipped sections, such as a mix of triangular gable ends and hips on other sides? Answer only 'yes' or 'no'.\"\n",
    "\n",
    "mixed_gable_results = []\n",
    "\n",
    "for idx, row in tqdm(df.iterrows(), total=len(df)):\n",
    "    fs_id = row[\"FS_DE_ID\"]\n",
    "    image_path = os.path.join(image_folder, f\"{fs_id}.png\")\n",
    "\n",
    "    if os.path.exists(image_path):\n",
    "        try:\n",
    "            response = run_qwen_inference(image_path, prompt)\n",
    "        except Exception as e:\n",
    "            response = f\"Error: {e}\"\n",
    "    else:\n",
    "        response = \"Image not found\"\n",
    "\n",
    "    mixed_gable_results.append({\n",
    "        \"FS_DE_ID\": fs_id,\n",
    "        \"Ground Truth\": row[\"Mixed(Gable+Hipped)\"],\n",
    "        \"Prediction\": response\n",
    "    })\n",
    "\n",
    "mixed_gable_df = pd.DataFrame(mixed_gable_results)\n"
   ]
  },
  {
   "cell_type": "code",
   "execution_count": 20,
   "id": "c2430a6f-72e4-451f-b505-fc92da768403",
   "metadata": {},
   "outputs": [],
   "source": [
    "import os\n",
    "import matplotlib.pyplot as plt\n",
    "import seaborn as sns\n",
    "from sklearn.metrics import accuracy_score, classification_report, confusion_matrix\n",
    "\n",
    "# Save directories\n",
    "csv_output_dir = \"/mnt/data/oe215/env/guna/Qwen_2.5_VL/Qwen_7B/Predictions\"\n",
    "cm_output_dir = \"/mnt/data/oe215/env/guna/Qwen_2.5_VL/Qwen_7B/Confusion Matrix\"\n",
    "os.makedirs(csv_output_dir, exist_ok=True)\n",
    "os.makedirs(cm_output_dir, exist_ok=True)\n",
    "\n",
    "# ✅ Improved Yes/No extractor\n",
    "def extract_yes_no(text):\n",
    "    if not isinstance(text, str):\n",
    "        return None\n",
    "    text = text.strip().lower()\n",
    "    if 'yes' in text and 'no' not in text:\n",
    "        return 'Y'\n",
    "    elif 'no' in text and 'yes' not in text:\n",
    "        return 'N'\n",
    "    return None  # ambiguous or both present\n",
    "\n",
    "def evaluate_and_save_binary(df, name, gt_col=\"Ground Truth\", pred_col=\"Prediction\"):\n",
    "    df[\"Prediction_Normalized\"] = df[pred_col].apply(extract_yes_no)\n",
    "\n",
    "    # Filter rows where prediction could be extracted\n",
    "    eval_df = df.dropna(subset=[\"Prediction_Normalized\"]).copy()\n",
    "\n",
    "    if eval_df.empty:\n",
    "        print(f\"\\n🚫 Skipping '{name}' — no valid yes/no predictions found.\")\n",
    "        return\n",
    "\n",
    "    # Convert Y/N to 1/0\n",
    "    eval_df[\"Ground Truth Binary\"] = eval_df[gt_col].map({\"Y\": 1, \"N\": 0})\n",
    "    eval_df[\"Prediction Binary\"] = eval_df[\"Prediction_Normalized\"].map({\"Y\": 1, \"N\": 0})\n",
    "\n",
    "    y_true = eval_df[\"Ground Truth Binary\"]\n",
    "    y_pred = eval_df[\"Prediction Binary\"]\n",
    "\n",
    "    print(f\"\\n=== {name.upper()} ===\")\n",
    "    print(\"Accuracy:\", accuracy_score(y_true, y_pred))\n",
    "    print(classification_report(y_true, y_pred, target_names=[\"No\", \"Yes\"], zero_division=0))\n",
    "\n",
    "    # Confusion Matrix\n",
    "    cm = confusion_matrix(y_true, y_pred, labels=[0, 1])\n",
    "    plt.figure(figsize=(5, 4))\n",
    "    sns.heatmap(cm, annot=True, fmt=\"d\", xticklabels=[\"No\", \"Yes\"], yticklabels=[\"No\", \"Yes\"], cmap=\"Blues\")\n",
    "    plt.xlabel(\"Predicted\")\n",
    "    plt.ylabel(\"Actual\")\n",
    "    plt.title(f\"{name} - Confusion Matrix\")\n",
    "    cm_path = os.path.join(cm_output_dir, f\"{name.lower().replace(' ', '_')}_confusion_matrix.png\")\n",
    "    plt.savefig(cm_path, bbox_inches=\"tight\")\n",
    "    plt.close()\n",
    "\n",
    "    # Save predictions\n",
    "    export_df = eval_df[[\"FS_DE_ID\", \"Ground Truth Binary\", \"Prediction Binary\"]]\n",
    "    csv_path = os.path.join(csv_output_dir, f\"{name.lower().replace(' ', '_')}_predictions.csv\")\n",
    "    export_df.to_csv(csv_path, index=False)\n",
    "\n",
    "    print(f\"✅ Saved to:\\n- {csv_path}\\n- {cm_path}\")\n",
    "\n"
   ]
  },
  {
   "cell_type": "code",
   "execution_count": 21,
   "id": "049bbc36-b260-4d1d-b51d-9f53e9d284ec",
   "metadata": {},
   "outputs": [
    {
     "name": "stdout",
     "output_type": "stream",
     "text": [
      "\n",
      "=== MIXED(GABLE+HIPPED) ===\n",
      "Accuracy: 0.10040160642570281\n",
      "              precision    recall  f1-score   support\n",
      "\n",
      "          No       1.00      0.04      0.07       233\n",
      "         Yes       0.07      1.00      0.12        16\n",
      "\n",
      "    accuracy                           0.10       249\n",
      "   macro avg       0.53      0.52      0.10       249\n",
      "weighted avg       0.94      0.10      0.08       249\n",
      "\n",
      "✅ Saved to:\n",
      "- /mnt/data/oe215/env/guna/Qwen_2.5_VL/Qwen_7B/Predictions/mixed(gable+hipped)_predictions.csv\n",
      "- /mnt/data/oe215/env/guna/Qwen_2.5_VL/Qwen_7B/Confusion Matrix/mixed(gable+hipped)_confusion_matrix.png\n"
     ]
    }
   ],
   "source": [
    "evaluate_and_save_binary(mixed_gable_df, \"Mixed(Gable+Hipped)\")\n"
   ]
  },
  {
   "cell_type": "markdown",
   "id": "037d0e43-bafe-48ec-9b29-b873c8442bce",
   "metadata": {},
   "source": [
    "## Living Space"
   ]
  },
  {
   "cell_type": "code",
   "execution_count": 27,
   "id": "9245a35c-c7b0-4d7d-b714-2634fd519c70",
   "metadata": {},
   "outputs": [
    {
     "name": "stderr",
     "output_type": "stream",
     "text": [
      "  0%|          | 0/249 [00:00<?, ?it/s]/mnt/home/gjenni/.local/lib/python3.12/site-packages/transformers/generation/configuration_utils.py:628: UserWarning: `do_sample` is set to `False`. However, `temperature` is set to `1e-06` -- this flag is only used in sample-based generation modes. You should set `do_sample=True` or unset `temperature`.\n",
      "  warnings.warn(\n",
      "100%|██████████| 249/249 [05:26<00:00,  1.31s/it]\n"
     ]
    }
   ],
   "source": [
    "from tqdm import tqdm\n",
    "\n",
    "prompt = \"Analyze the image and determine if there is living space under the roof of the building. Consider roof features like gabled or hipped roof, dormer windows, skylights, and overall roof volume. Answer 'Yes' if the roof has dormer windows or skylights or gabled, otherwise answer 'No.'\"\n",
    "\n",
    "\n",
    "living_results = []\n",
    "\n",
    "for idx, row in tqdm(df.iterrows(), total=len(df)):\n",
    "    fs_id = row[\"FS_DE_ID\"]\n",
    "    image_path = os.path.join(image_folder, f\"{fs_id}.png\")\n",
    "\n",
    "    if os.path.exists(image_path):\n",
    "        try:\n",
    "            response = run_qwen_inference(image_path, prompt)\n",
    "        except Exception as e:\n",
    "            response = f\"Error: {e}\"\n",
    "    else:\n",
    "        response = \"Image not found\"\n",
    "\n",
    "    living_results.append({\n",
    "        \"FS_DE_ID\": fs_id,\n",
    "        \"Ground Truth\": row[\"Presence of living space\"],\n",
    "        \"Prediction\": response\n",
    "    })\n",
    "\n",
    "living_df = pd.DataFrame(living_results)\n"
   ]
  },
  {
   "cell_type": "code",
   "execution_count": 28,
   "id": "6a9a14c3-87e3-40e5-9468-b126a74ea9a3",
   "metadata": {},
   "outputs": [],
   "source": [
    "import os\n",
    "import matplotlib.pyplot as plt\n",
    "import seaborn as sns\n",
    "from sklearn.metrics import accuracy_score, classification_report, confusion_matrix\n",
    "\n",
    "# Save directories\n",
    "csv_output_dir = \"/mnt/data/oe215/env/guna/Qwen_2.5_VL/Qwen_7B/Predictions\"\n",
    "cm_output_dir = \"/mnt/data/oe215/env/guna/Qwen_2.5_VL/Qwen_7B/Confusion Matrix\"\n",
    "os.makedirs(csv_output_dir, exist_ok=True)\n",
    "os.makedirs(cm_output_dir, exist_ok=True)\n",
    "\n",
    "# ✅ Improved Yes/No extractor\n",
    "def extract_yes_no(text):\n",
    "    if not isinstance(text, str):\n",
    "        return None\n",
    "    text = text.strip().lower()\n",
    "    if 'yes' in text and 'no' not in text:\n",
    "        return 'Y'\n",
    "    elif 'no' in text and 'yes' not in text:\n",
    "        return 'N'\n",
    "    return None  # ambiguous or both present\n",
    "\n",
    "def evaluate_and_save_binary(df, name, gt_col=\"Ground Truth\", pred_col=\"Prediction\"):\n",
    "    df[\"Prediction_Normalized\"] = df[pred_col].apply(extract_yes_no)\n",
    "\n",
    "    # Filter rows where prediction could be extracted\n",
    "    eval_df = df.dropna(subset=[\"Prediction_Normalized\"]).copy()\n",
    "\n",
    "    if eval_df.empty:\n",
    "        print(f\"\\n🚫 Skipping '{name}' — no valid yes/no predictions found.\")\n",
    "        return\n",
    "\n",
    "    # Convert Y/N to 1/0\n",
    "    eval_df[\"Ground Truth Binary\"] = eval_df[gt_col].map({\"Y\": 1, \"N\": 0})\n",
    "    eval_df[\"Prediction Binary\"] = eval_df[\"Prediction_Normalized\"].map({\"Y\": 1, \"N\": 0})\n",
    "\n",
    "    y_true = eval_df[\"Ground Truth Binary\"]\n",
    "    y_pred = eval_df[\"Prediction Binary\"]\n",
    "\n",
    "    print(f\"\\n=== {name.upper()} ===\")\n",
    "    print(\"Accuracy:\", accuracy_score(y_true, y_pred))\n",
    "    print(classification_report(y_true, y_pred, target_names=[\"No\", \"Yes\"], zero_division=0))\n",
    "\n",
    "    # Confusion Matrix\n",
    "    cm = confusion_matrix(y_true, y_pred, labels=[0, 1])\n",
    "    plt.figure(figsize=(5, 4))\n",
    "    sns.heatmap(cm, annot=True, fmt=\"d\", xticklabels=[\"No\", \"Yes\"], yticklabels=[\"No\", \"Yes\"], cmap=\"Blues\")\n",
    "    plt.xlabel(\"Predicted\")\n",
    "    plt.ylabel(\"Actual\")\n",
    "    plt.title(f\"{name} - Confusion Matrix\")\n",
    "    cm_path = os.path.join(cm_output_dir, f\"{name.lower().replace(' ', '_')}_confusion_matrix.png\")\n",
    "    plt.savefig(cm_path, bbox_inches=\"tight\")\n",
    "    plt.close()\n",
    "\n",
    "    # Save predictions\n",
    "    export_df = eval_df[[\"FS_DE_ID\", \"Ground Truth Binary\", \"Prediction Binary\"]]\n",
    "    csv_path = os.path.join(csv_output_dir, f\"{name.lower().replace(' ', '_')}_predictions.csv\")\n",
    "    export_df.to_csv(csv_path, index=False)\n",
    "\n",
    "    print(f\"✅ Saved to:\\n- {csv_path}\\n- {cm_path}\")\n",
    "\n"
   ]
  },
  {
   "cell_type": "code",
   "execution_count": 29,
   "id": "2e32ade8-6e4b-4230-bb46-cf728ac10caa",
   "metadata": {},
   "outputs": [
    {
     "name": "stdout",
     "output_type": "stream",
     "text": [
      "\n",
      "=== LIVING SPACE ===\n",
      "Accuracy: 0.3614457831325301\n",
      "              precision    recall  f1-score   support\n",
      "\n",
      "          No       0.33      0.93      0.49        83\n",
      "         Yes       0.68      0.08      0.14       166\n",
      "\n",
      "    accuracy                           0.36       249\n",
      "   macro avg       0.51      0.50      0.32       249\n",
      "weighted avg       0.57      0.36      0.26       249\n",
      "\n",
      "✅ Saved to:\n",
      "- /mnt/data/oe215/env/guna/Qwen_2.5_VL/Qwen_7B/Predictions/living_space_predictions.csv\n",
      "- /mnt/data/oe215/env/guna/Qwen_2.5_VL/Qwen_7B/Confusion Matrix/living_space_confusion_matrix.png\n"
     ]
    }
   ],
   "source": [
    "evaluate_and_save_binary(living_df, \"Living Space\")"
   ]
  },
  {
   "cell_type": "markdown",
   "id": "40d2f496-6184-4df7-a9d5-a98d1ee02889",
   "metadata": {},
   "source": [
    "## New Combined Evaluation"
   ]
  },
  {
   "cell_type": "markdown",
   "id": "8ce08dce-042b-49b1-9b7d-a7abfdac4e3d",
   "metadata": {},
   "source": [
    "### Combining Hipped and Mixed Hipped"
   ]
  },
  {
   "cell_type": "code",
   "execution_count": 22,
   "id": "db2302b0-02b5-4848-9a9c-0fab7d4442c6",
   "metadata": {},
   "outputs": [
    {
     "name": "stdout",
     "output_type": "stream",
     "text": [
      "✅ Combined labels saved as 'combined_hipped_gable_labels.csv'\n"
     ]
    }
   ],
   "source": [
    "import pandas as pd\n",
    "\n",
    "# Load your Excel file (already in JupyterLab directory)\n",
    "df = pd.read_excel(\"sloped_roof_249.xlsx\")\n",
    "\n",
    "# Combine 'Hipped' and 'Mixed (Hipped L)' into 'Combined_Hipped'\n",
    "df['Combined_Hipped'] = df.apply(\n",
    "    lambda row: 'Y' if row.get('Hipped') == 'Y' or row.get('Mixed (Hipped L)') == 'Y' else 'N',\n",
    "    axis=1\n",
    ")\n",
    "\n",
    "# Combine 'Gable' and 'Mixed(Gable+Hipped)' into 'Combined_Gable'\n",
    "df['Combined_Gable'] = df.apply(\n",
    "    lambda row: 'Y' if row.get('Gable') == 'Y' or row.get('Mixed(Gable+Hipped)') == 'Y' else 'N',\n",
    "    axis=1\n",
    ")\n",
    "\n",
    "# Save to new CSV\n",
    "df[['FS_DE_ID', 'Combined_Hipped', 'Combined_Gable']].to_csv(\"combined_hipped_gable_labels.csv\", index=False)\n",
    "\n",
    "print(\"✅ Combined labels saved as 'combined_hipped_gable_labels.csv'\")\n"
   ]
  },
  {
   "cell_type": "code",
   "execution_count": 24,
   "id": "7169386e-d8f3-4cbd-aa7d-9c7a04f6d551",
   "metadata": {},
   "outputs": [
    {
     "data": {
      "image/png": "[encoded data removed]",
      "text/plain": [
       "<Figure size 1200x500 with 2 Axes>"
      ]
     },
     "metadata": {},
     "output_type": "display_data"
    }
   ],
   "source": [
    "import matplotlib.pyplot as plt\n",
    "\n",
    "# Pie chart for Combined_Hipped\n",
    "hipped_counts = df['Combined_Hipped'].value_counts()\n",
    "\n",
    "plt.figure(figsize=(12, 5))\n",
    "\n",
    "# Combined Hipped Pie Chart\n",
    "plt.subplot(1, 2, 1)\n",
    "plt.pie(\n",
    "    hipped_counts,\n",
    "    labels=hipped_counts.index,\n",
    "    autopct='%1.1f%%',\n",
    "    colors=['skyblue', 'navy'],\n",
    "    startangle=140\n",
    ")\n",
    "plt.title('Combined Hipped - Class Distribution (Y vs N)')\n",
    "\n",
    "# Pie chart for Combined_Gable\n",
    "gable_counts = df['Combined_Gable'].value_counts()\n",
    "\n",
    "plt.subplot(1, 2, 2)\n",
    "plt.pie(\n",
    "    gable_counts,\n",
    "    labels=gable_counts.index,\n",
    "    autopct='%1.1f%%',\n",
    "    colors=['lightgreen', 'darkgreen'],\n",
    "    startangle=140\n",
    ")\n",
    "plt.title('Combined Gable - Class Distribution (Y vs N)')\n",
    "\n",
    "plt.tight_layout()\n",
    "plt.show()\n"
   ]
  },
  {
   "cell_type": "markdown",
   "id": "232b41a9-1757-40a9-8eea-ba46554cf555",
   "metadata": {},
   "source": [
    "### Loading the combined labels of hipped roof"
   ]
  },
  {
   "cell_type": "code",
   "execution_count": 3,
   "id": "1167b47f-4b31-4b89-91dc-264a9df976ba",
   "metadata": {},
   "outputs": [],
   "source": [
    "import pandas as pd\n",
    "import os\n",
    "\n",
    "# Load the combined CSV file\n",
    "combined_path = \"combined_hipped_gable_labels.csv\"\n",
    "df_combined = pd.read_csv(combined_path)\n",
    "\n",
    "# Confirm FS_DE_ID is string type\n",
    "df_combined['FS_DE_ID'] = df_combined['FS_DE_ID'].astype(str)\n"
   ]
  },
  {
   "cell_type": "markdown",
   "id": "0cdbcc64-614a-4c2d-a24a-15490ac2204c",
   "metadata": {},
   "source": [
    "### Inference for combined hipped"
   ]
  },
  {
   "cell_type": "code",
   "execution_count": 29,
   "id": "c3e67bc4-bb06-4611-985e-781389239c7c",
   "metadata": {},
   "outputs": [
    {
     "name": "stderr",
     "output_type": "stream",
     "text": [
      "  0%|          | 0/249 [00:00<?, ?it/s]/mnt/home/gjenni/.local/lib/python3.12/site-packages/transformers/generation/configuration_utils.py:628: UserWarning: `do_sample` is set to `False`. However, `temperature` is set to `1e-06` -- this flag is only used in sample-based generation modes. You should set `do_sample=True` or unset `temperature`.\n",
      "  warnings.warn(\n",
      "100%|██████████| 249/249 [00:40<00:00,  6.21it/s]\n"
     ]
    }
   ],
   "source": [
    "from tqdm import tqdm\n",
    "\n",
    "# Prompt (use your best-performing one)\n",
    "prompt = \"Is the roof of the building of hipped type? Answer with only 'Yes' or 'No' by properly analyzing the image?\"\n",
    "\n",
    "combined_hipped_results = []\n",
    "\n",
    "for idx, row in tqdm(df_combined.iterrows(), total=len(df_combined)):\n",
    "    fs_id = row[\"FS_DE_ID\"]\n",
    "    image_path = os.path.join(image_folder, f\"{fs_id}.png\")\n",
    "\n",
    "    if os.path.exists(image_path):\n",
    "        try:\n",
    "            response = run_qwen_inference(image_path, prompt)\n",
    "        except Exception as e:\n",
    "            response = f\"Error: {e}\"\n",
    "    else:\n",
    "        response = \"Image not found\"\n",
    "\n",
    "    combined_hipped_results.append({\n",
    "        \"FS_DE_ID\": fs_id,\n",
    "        \"Ground Truth\": row[\"Combined_Hipped\"],\n",
    "        \"Prediction\": response\n",
    "    })\n",
    "\n",
    "combined_hipped_df = pd.DataFrame(combined_hipped_results)\n"
   ]
  },
  {
   "cell_type": "code",
   "execution_count": 30,
   "id": "6bf4cf27-8315-47a5-9955-52c0b5f186db",
   "metadata": {},
   "outputs": [],
   "source": [
    "import os\n",
    "import matplotlib.pyplot as plt\n",
    "import seaborn as sns\n",
    "from sklearn.metrics import accuracy_score, classification_report, confusion_matrix\n",
    "\n",
    "# Save directories\n",
    "csv_output_dir = \"/mnt/data/oe215/env/guna/Qwen_2.5_VL/Qwen_7B/Predictions\"\n",
    "cm_output_dir = \"/mnt/data/oe215/env/guna/Qwen_2.5_VL/Qwen_7B/Confusion Matrix\"\n",
    "os.makedirs(csv_output_dir, exist_ok=True)\n",
    "os.makedirs(cm_output_dir, exist_ok=True)\n",
    "\n",
    "# ✅ Improved Yes/No extractor\n",
    "def extract_yes_no(text):\n",
    "    if not isinstance(text, str):\n",
    "        return None\n",
    "    text = text.strip().lower()\n",
    "    if 'yes' in text and 'no' not in text:\n",
    "        return 'Y'\n",
    "    elif 'no' in text and 'yes' not in text:\n",
    "        return 'N'\n",
    "    return None  # ambiguous or both present\n",
    "\n",
    "def evaluate_and_save_binary(df, name, gt_col=\"Ground Truth\", pred_col=\"Prediction\"):\n",
    "    df[\"Prediction_Normalized\"] = df[pred_col].apply(extract_yes_no)\n",
    "\n",
    "    # Filter rows where prediction could be extracted\n",
    "    eval_df = df.dropna(subset=[\"Prediction_Normalized\"]).copy()\n",
    "\n",
    "    if eval_df.empty:\n",
    "        print(f\"\\n🚫 Skipping '{name}' — no valid yes/no predictions found.\")\n",
    "        return\n",
    "\n",
    "    # Convert Y/N to 1/0\n",
    "    eval_df[\"Ground Truth Binary\"] = eval_df[gt_col].map({\"Y\": 1, \"N\": 0})\n",
    "    eval_df[\"Prediction Binary\"] = eval_df[\"Prediction_Normalized\"].map({\"Y\": 1, \"N\": 0})\n",
    "\n",
    "    y_true = eval_df[\"Ground Truth Binary\"]\n",
    "    y_pred = eval_df[\"Prediction Binary\"]\n",
    "\n",
    "    print(f\"\\n=== {name.upper()} ===\")\n",
    "    print(\"Accuracy:\", accuracy_score(y_true, y_pred))\n",
    "    print(classification_report(y_true, y_pred, target_names=[\"No\", \"Yes\"], zero_division=0))\n",
    "\n",
    "    # Confusion Matrix\n",
    "    cm = confusion_matrix(y_true, y_pred, labels=[0, 1])\n",
    "    plt.figure(figsize=(5, 4))\n",
    "    sns.heatmap(cm, annot=True, fmt=\"d\", xticklabels=[\"No\", \"Yes\"], yticklabels=[\"No\", \"Yes\"], cmap=\"Blues\")\n",
    "    plt.xlabel(\"Predicted\")\n",
    "    plt.ylabel(\"Actual\")\n",
    "    plt.title(f\"{name} - Confusion Matrix\")\n",
    "    cm_path = os.path.join(cm_output_dir, f\"{name.lower().replace(' ', '_')}_confusion_matrix.png\")\n",
    "    plt.savefig(cm_path, bbox_inches=\"tight\")\n",
    "    plt.close()\n",
    "\n",
    "    # Save predictions\n",
    "    export_df = eval_df[[\"FS_DE_ID\", \"Ground Truth Binary\", \"Prediction Binary\"]]\n",
    "    csv_path = os.path.join(csv_output_dir, f\"{name.lower().replace(' ', '_')}_predictions.csv\")\n",
    "    export_df.to_csv(csv_path, index=False)\n",
    "\n",
    "    print(f\"✅ Saved to:\\n- {csv_path}\\n- {cm_path}\")\n",
    "\n"
   ]
  },
  {
   "cell_type": "code",
   "execution_count": 31,
   "id": "e465ce71-dff7-47ea-98d7-449fe0717039",
   "metadata": {},
   "outputs": [
    {
     "name": "stdout",
     "output_type": "stream",
     "text": [
      "\n",
      "=== COMBINED HIPPED ROOF ===\n",
      "Accuracy: 0.7188755020080321\n",
      "              precision    recall  f1-score   support\n",
      "\n",
      "          No       0.65      0.82      0.73       114\n",
      "         Yes       0.81      0.63      0.71       135\n",
      "\n",
      "    accuracy                           0.72       249\n",
      "   macro avg       0.73      0.73      0.72       249\n",
      "weighted avg       0.74      0.72      0.72       249\n",
      "\n",
      "✅ Saved to:\n",
      "- /mnt/data/oe215/env/guna/Qwen_2.5_VL/Qwen_7B/Predictions/combined_hipped_roof_predictions.csv\n",
      "- /mnt/data/oe215/env/guna/Qwen_2.5_VL/Qwen_7B/Confusion Matrix/combined_hipped_roof_confusion_matrix.png\n"
     ]
    }
   ],
   "source": [
    "evaluate_and_save_binary(combined_hipped_df, \"Combined Hipped Roof\")"
   ]
  },
  {
   "cell_type": "markdown",
   "id": "2cfb1072-6aee-48df-afb0-f6d63e7e8a49",
   "metadata": {},
   "source": [
    "### Inference Using Caption + QA Prompt (Hipped Example)"
   ]
  },
  {
   "cell_type": "code",
   "execution_count": 6,
   "id": "5d448450-3795-4a43-a6a9-68d98542346f",
   "metadata": {},
   "outputs": [
    {
     "name": "stderr",
     "output_type": "stream",
     "text": [
      "  0%|          | 0/249 [00:00<?, ?it/s]/mnt/home/gjenni/.local/lib/python3.12/site-packages/transformers/generation/configuration_utils.py:628: UserWarning: `do_sample` is set to `False`. However, `temperature` is set to `1e-06` -- this flag is only used in sample-based generation modes. You should set `do_sample=True` or unset `temperature`.\n",
      "  warnings.warn(\n",
      "100%|██████████| 249/249 [13:39<00:00,  3.29s/it]\n"
     ]
    }
   ],
   "source": [
    "from tqdm import tqdm\n",
    "\n",
    "caption_prompt = \"Describe the roof shape of this building.\"\n",
    "qa_prompt_template = \"Based on your description, is the roof of hipped type? Answer only 'yes' or 'no'.\"\n",
    "\n",
    "caption_then_qa_results = []\n",
    "\n",
    "for idx, row in tqdm(df_combined.iterrows(), total=len(df_combined)):\n",
    "    fs_id = row[\"FS_DE_ID\"]\n",
    "    image_path = os.path.join(image_folder, f\"{fs_id}.png\")\n",
    "\n",
    "    if not os.path.exists(image_path):\n",
    "        response = \"Image not found\"\n",
    "        caption = None\n",
    "    else:\n",
    "        try:\n",
    "            # Step 1: Get roof description\n",
    "            caption = run_qwen_inference(image_path, caption_prompt)\n",
    "\n",
    "            # Step 2: Ask the model to classify based on its own description\n",
    "            follow_up_messages = [\n",
    "                {\n",
    "                    \"role\": \"user\",\n",
    "                    \"content\": [\n",
    "                        {\"type\": \"text\", \"text\": caption},\n",
    "                        {\"type\": \"text\", \"text\": qa_prompt_template}\n",
    "                    ]\n",
    "                }\n",
    "            ]\n",
    "\n",
    "            follow_up_text = processor.apply_chat_template(\n",
    "                follow_up_messages, tokenize=False, add_generation_prompt=True\n",
    "            )\n",
    "\n",
    "            image_inputs, video_inputs = process_vision_info(follow_up_messages)\n",
    "\n",
    "            inputs = processor(\n",
    "                text=[follow_up_text],\n",
    "                images=image_inputs,\n",
    "                videos=video_inputs,\n",
    "                padding=True,\n",
    "                return_tensors=\"pt\"\n",
    "            ).to(\"cuda\")\n",
    "\n",
    "            with torch.no_grad():\n",
    "                generated_ids = model.generate(\n",
    "                    **inputs,\n",
    "                    max_new_tokens=64,\n",
    "                    do_sample=False,\n",
    "                    eos_token_id=processor.tokenizer.eos_token_id,\n",
    "                    pad_token_id=processor.tokenizer.pad_token_id\n",
    "                )\n",
    "\n",
    "            response = processor.batch_decode(\n",
    "                generated_ids[:, inputs['input_ids'].shape[1]:],\n",
    "                skip_special_tokens=True,\n",
    "                clean_up_tokenization_spaces=True\n",
    "            )[0]\n",
    "\n",
    "        except Exception as e:\n",
    "            caption = None\n",
    "            response = f\"Error: {e}\"\n",
    "\n",
    "    caption_then_qa_results.append({\n",
    "        \"FS_DE_ID\": fs_id,\n",
    "        \"Ground Truth\": row[\"Combined_Hipped\"],\n",
    "        \"Caption\": caption,\n",
    "        \"Prediction\": response\n",
    "    })\n",
    "\n",
    "caption_then_qa_df = pd.DataFrame(caption_then_qa_results)\n"
   ]
  },
  {
   "cell_type": "code",
   "execution_count": 7,
   "id": "81f8b1c8-4670-4877-856a-f505939cccfd",
   "metadata": {},
   "outputs": [],
   "source": [
    "import os\n",
    "import matplotlib.pyplot as plt\n",
    "import seaborn as sns\n",
    "from sklearn.metrics import accuracy_score, classification_report, confusion_matrix\n",
    "\n",
    "# Save directories\n",
    "csv_output_dir = \"/mnt/data/oe215/env/guna/Qwen_2.5_VL/Qwen_7B/Predictions\"\n",
    "cm_output_dir = \"/mnt/data/oe215/env/guna/Qwen_2.5_VL/Qwen_7B/Confusion Matrix\"\n",
    "os.makedirs(csv_output_dir, exist_ok=True)\n",
    "os.makedirs(cm_output_dir, exist_ok=True)\n",
    "\n",
    "# ✅ Improved Yes/No extractor\n",
    "def extract_yes_no(text):\n",
    "    if not isinstance(text, str):\n",
    "        return None\n",
    "    text = text.strip().lower()\n",
    "    if 'yes' in text and 'no' not in text:\n",
    "        return 'Y'\n",
    "    elif 'no' in text and 'yes' not in text:\n",
    "        return 'N'\n",
    "    return None  # ambiguous or both present\n",
    "\n",
    "def evaluate_and_save_binary(df, name, gt_col=\"Ground Truth\", pred_col=\"Prediction\"):\n",
    "    df[\"Prediction_Normalized\"] = df[pred_col].apply(extract_yes_no)\n",
    "\n",
    "    # Filter rows where prediction could be extracted\n",
    "    eval_df = df.dropna(subset=[\"Prediction_Normalized\"]).copy()\n",
    "\n",
    "    if eval_df.empty:\n",
    "        print(f\"\\n🚫 Skipping '{name}' — no valid yes/no predictions found.\")\n",
    "        return\n",
    "\n",
    "    # Convert Y/N to 1/0\n",
    "    eval_df[\"Ground Truth Binary\"] = eval_df[gt_col].map({\"Y\": 1, \"N\": 0})\n",
    "    eval_df[\"Prediction Binary\"] = eval_df[\"Prediction_Normalized\"].map({\"Y\": 1, \"N\": 0})\n",
    "\n",
    "    y_true = eval_df[\"Ground Truth Binary\"]\n",
    "    y_pred = eval_df[\"Prediction Binary\"]\n",
    "\n",
    "    print(f\"\\n=== {name.upper()} ===\")\n",
    "    print(\"Accuracy:\", accuracy_score(y_true, y_pred))\n",
    "    print(classification_report(y_true, y_pred, target_names=[\"No\", \"Yes\"], zero_division=0))\n",
    "\n",
    "    # Confusion Matrix\n",
    "    cm = confusion_matrix(y_true, y_pred, labels=[0, 1])\n",
    "    plt.figure(figsize=(5, 4))\n",
    "    sns.heatmap(cm, annot=True, fmt=\"d\", xticklabels=[\"No\", \"Yes\"], yticklabels=[\"No\", \"Yes\"], cmap=\"Blues\")\n",
    "    plt.xlabel(\"Predicted\")\n",
    "    plt.ylabel(\"Actual\")\n",
    "    plt.title(f\"{name} - Confusion Matrix\")\n",
    "    cm_path = os.path.join(cm_output_dir, f\"{name.lower().replace(' ', '_')}_confusion_matrix.png\")\n",
    "    plt.savefig(cm_path, bbox_inches=\"tight\")\n",
    "    plt.close()\n",
    "\n",
    "    # Save predictions\n",
    "    export_df = eval_df[[\"FS_DE_ID\", \"Ground Truth Binary\", \"Prediction Binary\"]]\n",
    "    csv_path = os.path.join(csv_output_dir, f\"{name.lower().replace(' ', '_')}_predictions.csv\")\n",
    "    export_df.to_csv(csv_path, index=False)\n",
    "\n",
    "    print(f\"✅ Saved to:\\n- {csv_path}\\n- {cm_path}\")\n",
    "\n"
   ]
  },
  {
   "cell_type": "code",
   "execution_count": 8,
   "id": "c8bea89b-4b89-4cb1-89c3-728a88888520",
   "metadata": {},
   "outputs": [
    {
     "name": "stdout",
     "output_type": "stream",
     "text": [
      "\n",
      "=== COMBINED HIPPED ROOF (CAPTION + QA) ===\n",
      "Accuracy: 0.4819277108433735\n",
      "              precision    recall  f1-score   support\n",
      "\n",
      "          No       0.47      1.00      0.64       114\n",
      "         Yes       1.00      0.04      0.09       135\n",
      "\n",
      "    accuracy                           0.48       249\n",
      "   macro avg       0.73      0.52      0.36       249\n",
      "weighted avg       0.76      0.48      0.34       249\n",
      "\n",
      "✅ Saved to:\n",
      "- /mnt/data/oe215/env/guna/Qwen_2.5_VL/Qwen_7B/Predictions/combined_hipped_roof_(caption_+_qa)_predictions.csv\n",
      "- /mnt/data/oe215/env/guna/Qwen_2.5_VL/Qwen_7B/Confusion Matrix/combined_hipped_roof_(caption_+_qa)_confusion_matrix.png\n"
     ]
    }
   ],
   "source": [
    "evaluate_and_save_binary(caption_then_qa_df, \"Combined Hipped Roof (Caption + QA)\")\n"
   ]
  },
  {
   "cell_type": "markdown",
   "id": "90f2dab9-6afa-4f39-aa96-691619f69431",
   "metadata": {},
   "source": [
    "### Inference for combined gable"
   ]
  },
  {
   "cell_type": "code",
   "execution_count": 50,
   "id": "c8b90e2e-b54c-46e5-9506-f89e3e3684a5",
   "metadata": {},
   "outputs": [
    {
     "name": "stderr",
     "output_type": "stream",
     "text": [
      "  0%|          | 0/249 [00:00<?, ?it/s]/mnt/home/gjenni/.local/lib/python3.12/site-packages/transformers/generation/configuration_utils.py:628: UserWarning: `do_sample` is set to `False`. However, `temperature` is set to `1e-06` -- this flag is only used in sample-based generation modes. You should set `do_sample=True` or unset `temperature`.\n",
      "  warnings.warn(\n",
      "100%|██████████| 249/249 [00:40<00:00,  6.19it/s]\n"
     ]
    }
   ],
   "source": [
    "from tqdm import tqdm\n",
    "\n",
    "# 📢 Updated prompt for gable roofs\n",
    "prompt = \"Is the roof of the building of gabled type? Answer with only 'Yes' or 'No' by properly analyzing the image?\"\n",
    "\n",
    "combined_gable_results = []\n",
    "\n",
    "for idx, row in tqdm(df_combined.iterrows(), total=len(df_combined)):\n",
    "    fs_id = row[\"FS_DE_ID\"]\n",
    "    image_path = os.path.join(image_folder, f\"{fs_id}.png\")\n",
    "\n",
    "    if os.path.exists(image_path):\n",
    "        try:\n",
    "            response = run_qwen_inference(image_path, prompt)\n",
    "        except Exception as e:\n",
    "            response = f\"Error: {e}\"\n",
    "    else:\n",
    "        response = \"Image not found\"\n",
    "\n",
    "    combined_gable_results.append({\n",
    "        \"FS_DE_ID\": fs_id,\n",
    "        \"Ground Truth\": row[\"Combined_Gable\"],\n",
    "        \"Prediction\": response\n",
    "    })\n",
    "\n",
    "combined_gable_df = pd.DataFrame(combined_gable_results)\n"
   ]
  },
  {
   "cell_type": "code",
   "execution_count": 51,
   "id": "50f794be-a729-4474-a783-7f423886d754",
   "metadata": {},
   "outputs": [],
   "source": [
    "import os\n",
    "import matplotlib.pyplot as plt\n",
    "import seaborn as sns\n",
    "from sklearn.metrics import accuracy_score, classification_report, confusion_matrix\n",
    "\n",
    "# Save directories\n",
    "csv_output_dir = \"/mnt/data/oe215/env/guna/Qwen_2.5_VL/Qwen_7B/Predictions\"\n",
    "cm_output_dir = \"/mnt/data/oe215/env/guna/Qwen_2.5_VL/Qwen_7B/Confusion Matrix\"\n",
    "os.makedirs(csv_output_dir, exist_ok=True)\n",
    "os.makedirs(cm_output_dir, exist_ok=True)\n",
    "\n",
    "# ✅ Improved Yes/No extractor\n",
    "def extract_yes_no(text):\n",
    "    if not isinstance(text, str):\n",
    "        return None\n",
    "    text = text.strip().lower()\n",
    "    if 'yes' in text and 'no' not in text:\n",
    "        return 'Y'\n",
    "    elif 'no' in text and 'yes' not in text:\n",
    "        return 'N'\n",
    "    return None  # ambiguous or both present\n",
    "\n",
    "def evaluate_and_save_binary(df, name, gt_col=\"Ground Truth\", pred_col=\"Prediction\"):\n",
    "    df[\"Prediction_Normalized\"] = df[pred_col].apply(extract_yes_no)\n",
    "\n",
    "    # Filter rows where prediction could be extracted\n",
    "    eval_df = df.dropna(subset=[\"Prediction_Normalized\"]).copy()\n",
    "\n",
    "    if eval_df.empty:\n",
    "        print(f\"\\n🚫 Skipping '{name}' — no valid yes/no predictions found.\")\n",
    "        return\n",
    "\n",
    "    # Convert Y/N to 1/0\n",
    "    eval_df[\"Ground Truth Binary\"] = eval_df[gt_col].map({\"Y\": 1, \"N\": 0})\n",
    "    eval_df[\"Prediction Binary\"] = eval_df[\"Prediction_Normalized\"].map({\"Y\": 1, \"N\": 0})\n",
    "\n",
    "    y_true = eval_df[\"Ground Truth Binary\"]\n",
    "    y_pred = eval_df[\"Prediction Binary\"]\n",
    "\n",
    "    print(f\"\\n=== {name.upper()} ===\")\n",
    "    print(\"Accuracy:\", accuracy_score(y_true, y_pred))\n",
    "    print(classification_report(y_true, y_pred, target_names=[\"No\", \"Yes\"], zero_division=0))\n",
    "\n",
    "    # Confusion Matrix\n",
    "    cm = confusion_matrix(y_true, y_pred, labels=[0, 1])\n",
    "    plt.figure(figsize=(5, 4))\n",
    "    sns.heatmap(cm, annot=True, fmt=\"d\", xticklabels=[\"No\", \"Yes\"], yticklabels=[\"No\", \"Yes\"], cmap=\"Blues\")\n",
    "    plt.xlabel(\"Predicted\")\n",
    "    plt.ylabel(\"Actual\")\n",
    "    plt.title(f\"{name} - Confusion Matrix\")\n",
    "    cm_path = os.path.join(cm_output_dir, f\"{name.lower().replace(' ', '_')}_confusion_matrix.png\")\n",
    "    plt.savefig(cm_path, bbox_inches=\"tight\")\n",
    "    plt.close()\n",
    "\n",
    "    # Save predictions\n",
    "    export_df = eval_df[[\"FS_DE_ID\", \"Ground Truth Binary\", \"Prediction Binary\"]]\n",
    "    csv_path = os.path.join(csv_output_dir, f\"{name.lower().replace(' ', '_')}_predictions.csv\")\n",
    "    export_df.to_csv(csv_path, index=False)\n",
    "\n",
    "    print(f\"✅ Saved to:\\n- {csv_path}\\n- {cm_path}\")\n",
    "\n"
   ]
  },
  {
   "cell_type": "code",
   "execution_count": 52,
   "id": "a987ad1d-0c29-41ec-9827-ac719242bfe9",
   "metadata": {},
   "outputs": [
    {
     "name": "stdout",
     "output_type": "stream",
     "text": [
      "\n",
      "=== COMBINED GABLE ROOF ===\n",
      "Accuracy: 0.3413654618473896\n",
      "              precision    recall  f1-score   support\n",
      "\n",
      "          No       0.31      0.18      0.23       135\n",
      "         Yes       0.35      0.54      0.43       114\n",
      "\n",
      "    accuracy                           0.34       249\n",
      "   macro avg       0.33      0.36      0.33       249\n",
      "weighted avg       0.33      0.34      0.32       249\n",
      "\n",
      "✅ Saved to:\n",
      "- /mnt/data/oe215/env/guna/Qwen_2.5_VL/Qwen_7B/Predictions/combined_gable_roof_predictions.csv\n",
      "- /mnt/data/oe215/env/guna/Qwen_2.5_VL/Qwen_7B/Confusion Matrix/combined_gable_roof_confusion_matrix.png\n"
     ]
    }
   ],
   "source": [
    "evaluate_and_save_binary(combined_gable_df, \"Combined Gable Roof\")\n"
   ]
  },
  {
   "cell_type": "markdown",
   "id": "d1897c15-572e-488f-bca0-039ed8f8eaa5",
   "metadata": {},
   "source": [
    "### Inference Using Caption + QA Prompt (Gable Example)"
   ]
  },
  {
   "cell_type": "code",
   "execution_count": 53,
   "id": "e1905905-ba75-44ca-b027-9ad0e71a452d",
   "metadata": {},
   "outputs": [
    {
     "name": "stderr",
     "output_type": "stream",
     "text": [
      "  0%|          | 0/249 [00:00<?, ?it/s]/mnt/home/gjenni/.local/lib/python3.12/site-packages/transformers/generation/configuration_utils.py:628: UserWarning: `do_sample` is set to `False`. However, `temperature` is set to `1e-06` -- this flag is only used in sample-based generation modes. You should set `do_sample=True` or unset `temperature`.\n",
      "  warnings.warn(\n",
      "100%|██████████| 249/249 [13:23<00:00,  3.23s/it]\n"
     ]
    }
   ],
   "source": [
    "from tqdm import tqdm\n",
    "\n",
    "caption_prompt = \"Describe the roof shape of this building.\"\n",
    "qa_prompt_template = \"Based on your description, is the roof of gable type? Answer only 'yes' or 'no'.\"\n",
    "\n",
    "caption_then_qa_results = []\n",
    "\n",
    "for idx, row in tqdm(df_combined.iterrows(), total=len(df_combined)):\n",
    "    fs_id = row[\"FS_DE_ID\"]\n",
    "    image_path = os.path.join(image_folder, f\"{fs_id}.png\")\n",
    "\n",
    "    if not os.path.exists(image_path):\n",
    "        response = \"Image not found\"\n",
    "        caption = None\n",
    "    else:\n",
    "        try:\n",
    "            # Step 1: Caption\n",
    "            caption = run_qwen_inference(image_path, caption_prompt)\n",
    "            \n",
    "            # Step 2: Feed caption back into the model with a follow-up question\n",
    "            follow_up_messages = [\n",
    "                {\"role\": \"user\", \"content\": [\n",
    "                    {\"type\": \"text\", \"text\": caption},\n",
    "                    {\"type\": \"text\", \"text\": qa_prompt_template}\n",
    "                ]}\n",
    "            ]\n",
    "            follow_up_text = processor.apply_chat_template(follow_up_messages, tokenize=False, add_generation_prompt=True)\n",
    "            image_inputs, video_inputs = process_vision_info(follow_up_messages)\n",
    "\n",
    "            inputs = processor(\n",
    "                text=[follow_up_text],\n",
    "                images=image_inputs,\n",
    "                videos=video_inputs,\n",
    "                padding=True,\n",
    "                return_tensors=\"pt\"\n",
    "            ).to(\"cuda\")\n",
    "\n",
    "            with torch.no_grad():\n",
    "                generated_ids = model.generate(\n",
    "                    **inputs,\n",
    "                    max_new_tokens=64,\n",
    "                    do_sample=False,\n",
    "                    eos_token_id=processor.tokenizer.eos_token_id,\n",
    "                    pad_token_id=processor.tokenizer.pad_token_id\n",
    "                )\n",
    "\n",
    "            response = processor.batch_decode(\n",
    "                generated_ids[:, inputs['input_ids'].shape[1]:],\n",
    "                skip_special_tokens=True,\n",
    "                clean_up_tokenization_spaces=True\n",
    "            )[0]\n",
    "\n",
    "        except Exception as e:\n",
    "            caption = None\n",
    "            response = f\"Error: {e}\"\n",
    "\n",
    "    caption_then_qa_results.append({\n",
    "        \"FS_DE_ID\": fs_id,\n",
    "        \"Ground Truth\": row[\"Combined_Gable\"],\n",
    "        \"Caption\": caption,\n",
    "        \"Prediction\": response\n",
    "    })\n",
    "\n",
    "caption_then_qa_df = pd.DataFrame(caption_then_qa_results)\n"
   ]
  },
  {
   "cell_type": "code",
   "execution_count": 54,
   "id": "2c5bed8e-cf8a-433f-a174-46b1d2a3f163",
   "metadata": {},
   "outputs": [],
   "source": [
    "import os\n",
    "import matplotlib.pyplot as plt\n",
    "import seaborn as sns\n",
    "from sklearn.metrics import accuracy_score, classification_report, confusion_matrix\n",
    "\n",
    "# Save directories\n",
    "csv_output_dir = \"/mnt/data/oe215/env/guna/Qwen_2.5_VL/Qwen_7B/Predictions\"\n",
    "cm_output_dir = \"/mnt/data/oe215/env/guna/Qwen_2.5_VL/Qwen_7B/Confusion Matrix\"\n",
    "os.makedirs(csv_output_dir, exist_ok=True)\n",
    "os.makedirs(cm_output_dir, exist_ok=True)\n",
    "\n",
    "# ✅ Improved Yes/No extractor\n",
    "def extract_yes_no(text):\n",
    "    if not isinstance(text, str):\n",
    "        return None\n",
    "    text = text.strip().lower()\n",
    "    if 'yes' in text and 'no' not in text:\n",
    "        return 'Y'\n",
    "    elif 'no' in text and 'yes' not in text:\n",
    "        return 'N'\n",
    "    return None  # ambiguous or both present\n",
    "\n",
    "def evaluate_and_save_binary(df, name, gt_col=\"Ground Truth\", pred_col=\"Prediction\"):\n",
    "    df[\"Prediction_Normalized\"] = df[pred_col].apply(extract_yes_no)\n",
    "\n",
    "    # Filter rows where prediction could be extracted\n",
    "    eval_df = df.dropna(subset=[\"Prediction_Normalized\"]).copy()\n",
    "\n",
    "    if eval_df.empty:\n",
    "        print(f\"\\n🚫 Skipping '{name}' — no valid yes/no predictions found.\")\n",
    "        return\n",
    "\n",
    "    # Convert Y/N to 1/0\n",
    "    eval_df[\"Ground Truth Binary\"] = eval_df[gt_col].map({\"Y\": 1, \"N\": 0})\n",
    "    eval_df[\"Prediction Binary\"] = eval_df[\"Prediction_Normalized\"].map({\"Y\": 1, \"N\": 0})\n",
    "\n",
    "    y_true = eval_df[\"Ground Truth Binary\"]\n",
    "    y_pred = eval_df[\"Prediction Binary\"]\n",
    "\n",
    "    print(f\"\\n=== {name.upper()} ===\")\n",
    "    print(\"Accuracy:\", accuracy_score(y_true, y_pred))\n",
    "    print(classification_report(y_true, y_pred, target_names=[\"No\", \"Yes\"], zero_division=0))\n",
    "\n",
    "    # Confusion Matrix\n",
    "    cm = confusion_matrix(y_true, y_pred, labels=[0, 1])\n",
    "    plt.figure(figsize=(5, 4))\n",
    "    sns.heatmap(cm, annot=True, fmt=\"d\", xticklabels=[\"No\", \"Yes\"], yticklabels=[\"No\", \"Yes\"], cmap=\"Blues\")\n",
    "    plt.xlabel(\"Predicted\")\n",
    "    plt.ylabel(\"Actual\")\n",
    "    plt.title(f\"{name} - Confusion Matrix\")\n",
    "    cm_path = os.path.join(cm_output_dir, f\"{name.lower().replace(' ', '_')}_confusion_matrix.png\")\n",
    "    plt.savefig(cm_path, bbox_inches=\"tight\")\n",
    "    plt.close()\n",
    "\n",
    "    # Save predictions\n",
    "    export_df = eval_df[[\"FS_DE_ID\", \"Ground Truth Binary\", \"Prediction Binary\"]]\n",
    "    csv_path = os.path.join(csv_output_dir, f\"{name.lower().replace(' ', '_')}_predictions.csv\")\n",
    "    export_df.to_csv(csv_path, index=False)\n",
    "\n",
    "    print(f\"✅ Saved to:\\n- {csv_path}\\n- {cm_path}\")\n",
    "\n"
   ]
  },
  {
   "cell_type": "code",
   "execution_count": 55,
   "id": "193c94d5-9f79-4712-898b-c89b24afe888",
   "metadata": {},
   "outputs": [
    {
     "name": "stdout",
     "output_type": "stream",
     "text": [
      "\n",
      "=== COMBINED GABLE ROOF (CAPTION + QA) ===\n",
      "Accuracy: 0.41767068273092367\n",
      "              precision    recall  f1-score   support\n",
      "\n",
      "          No       0.45      0.30      0.36       135\n",
      "         Yes       0.40      0.55      0.46       114\n",
      "\n",
      "    accuracy                           0.42       249\n",
      "   macro avg       0.42      0.43      0.41       249\n",
      "weighted avg       0.43      0.42      0.41       249\n",
      "\n",
      "✅ Saved to:\n",
      "- /mnt/data/oe215/env/guna/Qwen_2.5_VL/Qwen_7B/Predictions/combined_gable_roof_(caption_+_qa)_predictions.csv\n",
      "- /mnt/data/oe215/env/guna/Qwen_2.5_VL/Qwen_7B/Confusion Matrix/combined_gable_roof_(caption_+_qa)_confusion_matrix.png\n"
     ]
    }
   ],
   "source": [
    "evaluate_and_save_binary(caption_then_qa_df, \"Combined Gable Roof (Caption + QA)\")\n"
   ]
  },
  {
   "cell_type": "markdown",
   "id": "5ccdc0c2-9a29-42b6-a925-38ad57b15422",
   "metadata": {},
   "source": [
    "## Roles as Expert"
   ]
  },
  {
   "cell_type": "code",
   "execution_count": 56,
   "id": "8b868843-3015-4da3-8a66-d122a8d27206",
   "metadata": {},
   "outputs": [],
   "source": [
    "def run_qwen_inference(image_path, prompt):\n",
    "    messages = [\n",
    "        {\n",
    "            \"role\": \"system\",\n",
    "            \"content\": \"You are an expert in analyzing geospatial aerial images of residential buildings. Your expertise includes roof classification, roof volume analysis, and determining the utilization of roof spaces for living purposes. Provide detailed, accurate insights based on visual and structural features of roofs.\"\n",
    "        },\n",
    "        {\n",
    "            \"role\": \"user\",\n",
    "            \"content\": [\n",
    "                {\"type\": \"image\", \"image\": image_path},\n",
    "                {\"type\": \"text\", \"text\": prompt},\n",
    "            ],\n",
    "        }\n",
    "    ]\n",
    "    \n",
    "    # Apply chat template\n",
    "    text = processor.apply_chat_template(messages, tokenize=False, add_generation_prompt=True)\n",
    "    \n",
    "    # Vision input\n",
    "    image_inputs, video_inputs = process_vision_info(messages)\n",
    "\n",
    "    # Tokenize\n",
    "    inputs = processor(\n",
    "        text=[text],\n",
    "        images=image_inputs,\n",
    "        videos=video_inputs,\n",
    "        padding=True,\n",
    "        return_tensors=\"pt\",\n",
    "    ).to(\"cuda\")\n",
    "\n",
    "    # Generate only the new tokens\n",
    "    with torch.no_grad():\n",
    "        generated_ids = model.generate(\n",
    "            **inputs,\n",
    "            max_new_tokens=128,\n",
    "            do_sample=False,\n",
    "            eos_token_id=processor.tokenizer.eos_token_id,\n",
    "            pad_token_id=processor.tokenizer.pad_token_id\n",
    "        )\n",
    "\n",
    "    # Decode only the newly generated part\n",
    "    generated_text = processor.batch_decode(\n",
    "        generated_ids[:, inputs['input_ids'].shape[1]:],\n",
    "        skip_special_tokens=True,\n",
    "        clean_up_tokenization_spaces=True\n",
    "    )[0]\n",
    "    \n",
    "    return generated_text\n"
   ]
  },
  {
   "cell_type": "code",
   "execution_count": 58,
   "id": "6dd12cbe-24fa-4d7d-b37b-e430c24112e6",
   "metadata": {},
   "outputs": [
    {
     "name": "stderr",
     "output_type": "stream",
     "text": [
      "100%|██████████| 249/249 [00:40<00:00,  6.16it/s]\n"
     ]
    }
   ],
   "source": [
    "from tqdm import tqdm\n",
    "\n",
    "# Prompt (use your best-performing one)\n",
    "prompt = \"Is the roof of the building of hipped type? Answer with only 'Yes' or 'No' by properly analyzing the image?\"\n",
    "\n",
    "combined_hipped_results_exp = []\n",
    "\n",
    "for idx, row in tqdm(df_combined.iterrows(), total=len(df_combined)):\n",
    "    fs_id = row[\"FS_DE_ID\"]\n",
    "    image_path = os.path.join(image_folder, f\"{fs_id}.png\")\n",
    "\n",
    "    if os.path.exists(image_path):\n",
    "        try:\n",
    "            response = run_qwen_inference(image_path, prompt)\n",
    "        except Exception as e:\n",
    "            response = f\"Error: {e}\"\n",
    "    else:\n",
    "        response = \"Image not found\"\n",
    "\n",
    "    combined_hipped_results_exp.append({\n",
    "        \"FS_DE_ID\": fs_id,\n",
    "        \"Ground Truth\": row[\"Combined_Hipped\"],\n",
    "        \"Prediction\": response\n",
    "    })\n",
    "\n",
    "combined_hipped_df_exp = pd.DataFrame(combined_hipped_results_exp)\n"
   ]
  },
  {
   "cell_type": "code",
   "execution_count": 59,
   "id": "1453f4cc-798a-4323-96ef-9fc8906f75af",
   "metadata": {},
   "outputs": [],
   "source": [
    "import os\n",
    "import matplotlib.pyplot as plt\n",
    "import seaborn as sns\n",
    "from sklearn.metrics import accuracy_score, classification_report, confusion_matrix\n",
    "\n",
    "# Save directories\n",
    "csv_output_dir = \"/mnt/data/oe215/env/guna/Qwen_2.5_VL/Qwen_7B/Predictions\"\n",
    "cm_output_dir = \"/mnt/data/oe215/env/guna/Qwen_2.5_VL/Qwen_7B/Confusion Matrix\"\n",
    "os.makedirs(csv_output_dir, exist_ok=True)\n",
    "os.makedirs(cm_output_dir, exist_ok=True)\n",
    "\n",
    "# ✅ Improved Yes/No extractor\n",
    "def extract_yes_no(text):\n",
    "    if not isinstance(text, str):\n",
    "        return None\n",
    "    text = text.strip().lower()\n",
    "    if 'yes' in text and 'no' not in text:\n",
    "        return 'Y'\n",
    "    elif 'no' in text and 'yes' not in text:\n",
    "        return 'N'\n",
    "    return None  # ambiguous or both present\n",
    "\n",
    "def evaluate_and_save_binary(df, name, gt_col=\"Ground Truth\", pred_col=\"Prediction\"):\n",
    "    df[\"Prediction_Normalized\"] = df[pred_col].apply(extract_yes_no)\n",
    "\n",
    "    # Filter rows where prediction could be extracted\n",
    "    eval_df = df.dropna(subset=[\"Prediction_Normalized\"]).copy()\n",
    "\n",
    "    if eval_df.empty:\n",
    "        print(f\"\\n🚫 Skipping '{name}' — no valid yes/no predictions found.\")\n",
    "        return\n",
    "\n",
    "    # Convert Y/N to 1/0\n",
    "    eval_df[\"Ground Truth Binary\"] = eval_df[gt_col].map({\"Y\": 1, \"N\": 0})\n",
    "    eval_df[\"Prediction Binary\"] = eval_df[\"Prediction_Normalized\"].map({\"Y\": 1, \"N\": 0})\n",
    "\n",
    "    y_true = eval_df[\"Ground Truth Binary\"]\n",
    "    y_pred = eval_df[\"Prediction Binary\"]\n",
    "\n",
    "    print(f\"\\n=== {name.upper()} ===\")\n",
    "    print(\"Accuracy:\", accuracy_score(y_true, y_pred))\n",
    "    print(classification_report(y_true, y_pred, target_names=[\"No\", \"Yes\"], zero_division=0))\n",
    "\n",
    "    # Confusion Matrix\n",
    "    cm = confusion_matrix(y_true, y_pred, labels=[0, 1])\n",
    "    plt.figure(figsize=(5, 4))\n",
    "    sns.heatmap(cm, annot=True, fmt=\"d\", xticklabels=[\"No\", \"Yes\"], yticklabels=[\"No\", \"Yes\"], cmap=\"Blues\")\n",
    "    plt.xlabel(\"Predicted\")\n",
    "    plt.ylabel(\"Actual\")\n",
    "    plt.title(f\"{name} - Confusion Matrix\")\n",
    "    cm_path = os.path.join(cm_output_dir, f\"{name.lower().replace(' ', '_')}_confusion_matrix.png\")\n",
    "    plt.savefig(cm_path, bbox_inches=\"tight\")\n",
    "    plt.close()\n",
    "\n",
    "    # Save predictions\n",
    "    export_df = eval_df[[\"FS_DE_ID\", \"Ground Truth Binary\", \"Prediction Binary\"]]\n",
    "    csv_path = os.path.join(csv_output_dir, f\"{name.lower().replace(' ', '_')}_predictions.csv\")\n",
    "    export_df.to_csv(csv_path, index=False)\n",
    "\n",
    "    print(f\"✅ Saved to:\\n- {csv_path}\\n- {cm_path}\")\n",
    "\n"
   ]
  },
  {
   "cell_type": "code",
   "execution_count": 60,
   "id": "a07f4e0b-c020-47cd-aa86-b291c774456c",
   "metadata": {},
   "outputs": [
    {
     "name": "stdout",
     "output_type": "stream",
     "text": [
      "\n",
      "=== COMBINED HIPPED ROOF EXPERT ===\n",
      "Accuracy: 0.7068273092369478\n",
      "              precision    recall  f1-score   support\n",
      "\n",
      "          No       0.63      0.89      0.73       114\n",
      "         Yes       0.85      0.56      0.67       135\n",
      "\n",
      "    accuracy                           0.71       249\n",
      "   macro avg       0.74      0.72      0.70       249\n",
      "weighted avg       0.75      0.71      0.70       249\n",
      "\n",
      "✅ Saved to:\n",
      "- /mnt/data/oe215/env/guna/Qwen_2.5_VL/Qwen_7B/Predictions/combined_hipped_roof_expert_predictions.csv\n",
      "- /mnt/data/oe215/env/guna/Qwen_2.5_VL/Qwen_7B/Confusion Matrix/combined_hipped_roof_expert_confusion_matrix.png\n"
     ]
    }
   ],
   "source": [
    "evaluate_and_save_binary(combined_hipped_df_exp, \"Combined Hipped Roof Expert\")\n"
   ]
  },
  {
   "cell_type": "code",
   "execution_count": null,
   "id": "8daa00cc-dce4-43a9-a31a-2dacc0ab289c",
   "metadata": {},
   "outputs": [],
   "source": []
  }
 ],
 "metadata": {
  "kernelspec": {
   "display_name": "Python 3 (ipykernel)",
   "language": "python",
   "name": "python3"
  },
  "language_info": {
   "codemirror_mode": {
    "name": "ipython",
    "version": 3
   },
   "file_extension": ".py",
   "mimetype": "text/x-python",
   "name": "python",
   "nbconvert_exporter": "python",
   "pygments_lexer": "ipython3",
   "version": "3.12.0"
  }
 },
 "nbformat": 4,
 "nbformat_minor": 5
}
